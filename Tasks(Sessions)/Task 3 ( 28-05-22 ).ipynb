{
 "cells": [
  {
   "cell_type": "code",
   "execution_count": 1,
   "id": "8d6ac07e",
   "metadata": {},
   "outputs": [
    {
     "name": "stdout",
     "output_type": "stream",
     "text": [
      "enter how many rows are required 3\n",
      "ineuron \n",
      "ineuron ineuron \n",
      "ineuron ineuron ineuron \n"
     ]
    }
   ],
   "source": [
    "# q1 : \n",
    "# ineuron\n",
    "# ineuron ineuron\n",
    "# ineuron ineuron ineuron\n",
    "# ineuron ineuron ineuron ineuron\n",
    "\n",
    "\n",
    "\n",
    "# for i in range(4) :\n",
    "#     for j in range(0,i+1):\n",
    "#         print(\"ineuron\",end = \" \")\n",
    "#     print(\"\\n\")\n",
    "\n",
    "\n",
    "row = int(input(\"enter how many rows are required \"))\n",
    "for i in range(row):\n",
    "    print(\"ineuron \"*(i+1))"
   ]
  },
  {
   "cell_type": "code",
   "execution_count": 2,
   "id": "93b67fb7",
   "metadata": {},
   "outputs": [
    {
     "name": "stdout",
     "output_type": "stream",
     "text": [
      "                                                  \n",
      "                     ineuron                      \n",
      "                 ineuron ineuron                  \n",
      "             ineuron ineuron ineuron              \n",
      "                 ineuron ineuron                  \n",
      "                     ineuron                      \n"
     ]
    }
   ],
   "source": [
    "# q2 :\n",
    "\n",
    "#        ineuron\n",
    "# \tineuron\t\tineuron\n",
    "# ineuron\t\tineuron\t\tineuron\n",
    "# \tineuron\t\tineuron\n",
    "# \t\t ineuron\n",
    "\n",
    "for i in range(6):\n",
    "    if i <=3:\n",
    "        n = i\n",
    "    else:\n",
    "        n = 6 - i\n",
    "    print((\"ineuron \"*n).center(50,' '))\n",
    "    \n",
    "        \n",
    "    \n",
    "        "
   ]
  },
  {
   "cell_type": "code",
   "execution_count": 10,
   "id": "531c5533",
   "metadata": {},
   "outputs": [],
   "source": [
    "l = [[1,2,3,4] ,(2,3,4,5,6) , (3,4,5,6,7) , set([23,4,5,45,4,4,5,45,45,4,5]), {'k1': \"sudh\" , \"k2\" : \"ineuron\", \"k3\" : \"kumar\" , 3:6 , 7:8 } , [\"ineuron\" , \"data science\"] ]"
   ]
  },
  {
   "cell_type": "code",
   "execution_count": 12,
   "id": "12ab7ec3",
   "metadata": {},
   "outputs": [
    {
     "name": "stdout",
     "output_type": "stream",
     "text": [
      "[1, 2, 3, 4]\n",
      "['ineuron', 'data science']\n"
     ]
    }
   ],
   "source": [
    "# Q3  : Try to extract all the list entity\n",
    "\n",
    "for i in l :\n",
    "    if type(i) == list:\n",
    "        print(i)"
   ]
  },
  {
   "cell_type": "code",
   "execution_count": 13,
   "id": "f4e50e90",
   "metadata": {},
   "outputs": [
    {
     "name": "stdout",
     "output_type": "stream",
     "text": [
      "{'k1': 'sudh', 'k2': 'ineuron', 'k3': 'kumar', 3: 6, 7: 8}\n"
     ]
    }
   ],
   "source": [
    "# Q4  : Try to extract all the dict entities\n",
    "\n",
    "for i in l :\n",
    "    if type(i) == dict:\n",
    "        print(i)"
   ]
  },
  {
   "cell_type": "code",
   "execution_count": 14,
   "id": "6664972f",
   "metadata": {},
   "outputs": [
    {
     "name": "stdout",
     "output_type": "stream",
     "text": [
      "(2, 3, 4, 5, 6)\n",
      "(3, 4, 5, 6, 7)\n"
     ]
    }
   ],
   "source": [
    "# Q5  : Try to extract all the tuple entities\n",
    "\n",
    "for i in l :\n",
    "    if type(i) == tuple:\n",
    "        print(i)"
   ]
  },
  {
   "cell_type": "code",
   "execution_count": 49,
   "id": "5d71262b",
   "metadata": {},
   "outputs": [
    {
     "name": "stdout",
     "output_type": "stream",
     "text": [
      "1\n",
      "2\n",
      "3\n",
      "4\n",
      "2\n",
      "3\n",
      "4\n",
      "5\n",
      "6\n",
      "3\n",
      "4\n",
      "5\n",
      "6\n",
      "7\n",
      "45\n",
      "4\n",
      "5\n",
      "23\n",
      "3 6\n",
      "7 8\n"
     ]
    }
   ],
   "source": [
    "# Q6  : Try to extract all the numeric data it may be a part of dict key and values\n",
    "\n",
    "l = [[1,2,3,4] ,(2,3,4,5,6) , (3,4,5,6,7) , set([23,4,5,45,4,4,5,45,45,4,5]), {'k1': \"sudh\" , \"k2\" : \"ineuron\", \"k3\" : \"kumar\" , 3:6 , 7:8 } , [\"ineuron\" , \"data science\"] ]\n",
    "\n",
    "for i in l:\n",
    "    if type(i) == list or type(i) == tuple or type(i) == set:\n",
    "        for j in i:\n",
    "            if type(j) == int :\n",
    "                print(j)\n",
    "    if type(i) == dict:\n",
    "        for j,k in i.items():\n",
    "            if type(j) == int or type(k) == int:\n",
    "                print(j,k)\n",
    "            \n",
    "  "
   ]
  },
  {
   "cell_type": "code",
   "execution_count": 7,
   "id": "c0f1f180",
   "metadata": {},
   "outputs": [
    {
     "name": "stdout",
     "output_type": "stream",
     "text": [
      "[1, 2, 3, 4, 2, 3, 4, 5, 6, 3, 4, 5, 6, 7, 45, 4, 5, 23, 3, 6, 7, 8]\n",
      "156\n"
     ]
    }
   ],
   "source": [
    "# Q7  : Try to give a summation of all the numeric data\n",
    "\n",
    "\n",
    "l = [[1,2,3,4] ,(2,3,4,5,6) , (3,4,5,6,7) , set([23,4,5,45,4,4,5,45,45,4,5]), {'k1': \"sudh\" , \"k2\" : \"ineuron\", \"k3\" : \"kumar\" , 3:6 , 7:8 } , [\"ineuron\" , \"data science\"] ]\n",
    "l2 = []\n",
    "\n",
    "for i in l:\n",
    "    if type(i) == list or type(i) == tuple or type(i) == set:\n",
    "        for j in i:\n",
    "            if type(j) == int :\n",
    "                l2.append(j)\n",
    "    if type(i) == dict:\n",
    "        for j,k in i.items():\n",
    "            if type(j) == int or type(k) == int:\n",
    "                l2.append(j)\n",
    "                l2.append(k)\n",
    "print(l2)\n",
    "add = 0\n",
    "for i in l2:\n",
    "        add = add+i\n",
    "print(add)\n",
    "        \n",
    "# sum(l1)       \n",
    "        \n",
    "                "
   ]
  },
  {
   "cell_type": "code",
   "execution_count": 54,
   "id": "aec1e760",
   "metadata": {},
   "outputs": [
    {
     "name": "stdout",
     "output_type": "stream",
     "text": [
      "1\n",
      "3\n",
      "3\n",
      "5\n",
      "3\n",
      "5\n",
      "7\n",
      "45\n",
      "5\n",
      "23\n",
      "3\n",
      "7\n"
     ]
    }
   ],
   "source": [
    "# Q8  : Try to filter out all the odd values out all numeric data which is a part of a list\n",
    "\n",
    "l = [[1,2,3,4] ,(2,3,4,5,6) , (3,4,5,6,7) , set([23,4,5,45,4,4,5,45,45,4,5]), {'k1': \"sudh\" , \"k2\" : \"ineuron\", \"k3\" : \"kumar\" , 3:6 , 7:8 } , [\"ineuron\" , \"data science\"] ]\n",
    "\n",
    "for i in l :\n",
    "    for j in i:\n",
    "          if type(j) == int and j%2 != 0 :\n",
    "                print(j)"
   ]
  },
  {
   "cell_type": "code",
   "execution_count": 8,
   "id": "f24eb2b5",
   "metadata": {},
   "outputs": [
    {
     "name": "stdout",
     "output_type": "stream",
     "text": [
      "ineuron\n",
      "ineuron\n"
     ]
    }
   ],
   "source": [
    "# Q9  : Try to extract \"ineuron\" out of this data \n",
    "\n",
    "l = [[1,2,3,4] ,(2,3,4,5,6) , (3,4,5,6,7) , set([23,4,5,45,4,4,5,45,45,4,5]), {'k1': \"sudh\" , \"k2\" : \"ineuron\", \"k3\" : \"kumar\" , 3:6 , 7:8 } , [\"ineuron\" , \"data science\"] ]\n",
    "\n",
    "for i in l :\n",
    "    if type(i) == tuple or type(i) == list or type(i) == set or type(i) == dict :\n",
    "        for j in i:\n",
    "            if j == \"ineuron\" :\n",
    "                print(j)\n",
    "    if type (i) == dict:\n",
    "        for k in i.items():\n",
    "            for g in k :\n",
    "                if g == 'ineuron':\n",
    "                    print(g)\n",
    "                \n",
    "        \n",
    "            \n"
   ]
  },
  {
   "cell_type": "code",
   "execution_count": 9,
   "id": "47ea2bb4",
   "metadata": {},
   "outputs": [],
   "source": [
    "# Q10 : Try to find out a number of occurances of all the data\n",
    "\n",
    "l = [[1,2,3,4] ,(2,3,4,5,6) , (3,4,5,6,7) , set([23,4,5,45,4,4,5,45,45,4,5]), {'k1': \"sudh\" , \"k2\" : \"ineuron\", \"k3\" : \"kumar\" , 3:6 , 7:8 } , [\"ineuron\" , \"data science\"] ]\n",
    "\n",
    "\n",
    "\n",
    "for i in set(l1) :\n",
    "    print(i , \":\" ,l1.count(i))\n",
    "\n",
    "    \n",
    "    \n",
    "         \n",
    "        \n"
   ]
  },
  {
   "cell_type": "code",
   "execution_count": 30,
   "id": "3c03cc4c",
   "metadata": {},
   "outputs": [
    {
     "name": "stdout",
     "output_type": "stream",
     "text": [
      "['k1', 'k2', 'k3', 3, 7]\n"
     ]
    },
    {
     "data": {
      "text/plain": [
       "5"
      ]
     },
     "execution_count": 30,
     "metadata": {},
     "output_type": "execute_result"
    }
   ],
   "source": [
    "# Q11 : Try to find number of keys in dict element\n",
    "\n",
    "l = [[1,2,3,4] ,(2,3,4,5,6) , (3,4,5,6,7) , set([23,4,5,45,4,4,5,45,45,4,5]), {'k1': \"sudh\" , \"k2\" : \"ineuron\", \"k3\" : \"kumar\" , 3:6 , 7:8 } , [\"ineuron\" , \"data science\"] ]\n",
    "l1 = []\n",
    "for i in l:\n",
    "    if type(i) == dict:\n",
    "        for j,k in i.items():\n",
    "            l1.append(j)\n",
    "print(l1)\n",
    "len(l1)\n"
   ]
  },
  {
   "cell_type": "code",
   "execution_count": 31,
   "id": "51b8f690",
   "metadata": {},
   "outputs": [
    {
     "name": "stdout",
     "output_type": "stream",
     "text": [
      "k1 sudh\n",
      "k2 ineuron\n",
      "k3 kumar\n",
      "ineuron\n",
      "data science\n"
     ]
    }
   ],
   "source": [
    "# Q12 : Try to find out all the string data\n",
    "\n",
    "l = [[1,2,3,4] ,(2,3,4,5,6) , (3,4,5,6,7) , set([23,4,5,45,4,4,5,45,45,4,5]), {'k1': \"sudh\" , \"k2\" : \"ineuron\", \"k3\" : \"kumar\" , 3:6 , 7:8 } , [\"ineuron\" , \"data science\"] ]\n",
    "\n",
    "for i in l:\n",
    "    if type(i) == list or type(i) == tuple or type(i) == set:\n",
    "        for j in i:\n",
    "            if type(j) == str :\n",
    "                print(j)\n",
    "    if type(i) == dict:\n",
    "        for j,k in i.items():\n",
    "            if type(j) == str or type(k) == str:\n",
    "                print(j,k)"
   ]
  },
  {
   "cell_type": "code",
   "execution_count": 70,
   "id": "2a0780f6",
   "metadata": {},
   "outputs": [
    {
     "name": "stdout",
     "output_type": "stream",
     "text": [
      "[]\n"
     ]
    }
   ],
   "source": [
    "# Q13 : Try to find out alphanum in data\n",
    "\n",
    "l = [[1,2,3,4] ,(2,3,4,5,6) , (3,4,5,6,7) , set([23,4,5,45,4,4,5,45,45,4,5]), {'k1': \"sudh\" , \"k2\" : \"ineuron\", \"k3\" : \"kumar\" , 3:6 , 7:8 } , [\"ineuron\" , \"data science\"] ]\n",
    "l2=[]\n",
    "\n",
    "for i in l:\n",
    "    if type(i) == dict:\n",
    "            for j,k in i.items(): \n",
    "                if type(j) == str or type(k) == str:\n",
    "                    if j.isalnum == True:\n",
    "                        l2.append(j)\n",
    "    \n",
    "print(l2)     \n",
    "            \n"
   ]
  },
  {
   "cell_type": "code",
   "execution_count": 12,
   "id": "edbd37b4",
   "metadata": {
    "scrolled": true
   },
   "outputs": [
    {
     "name": "stdout",
     "output_type": "stream",
     "text": [
      "<class 'int'> 24\n",
      "<class 'int'> 720\n",
      "<class 'int'> 2520\n",
      "<class 'int'> 20700\n",
      "<class 'dict'> 1008\n",
      "<class 'str'> 1\n"
     ]
    }
   ],
   "source": [
    "# Q14 : Try to find out multiplication of all numeric value in the individual collection inside dataset\n",
    "\n",
    "l = [[1,2,3,4] ,(2,3,4,5,6) , (3,4,5,6,7) , set([23,4,5,45,4,4,5,45,45,4,5]), {'k1': \"sudh\" , \"k2\" : \"ineuron\", \"k3\" : \"kumar\" , 3:6 , 7:8 } , [\"ineuron\" , \"data science\"] ]\n",
    "l2 = []\n",
    "\n",
    "# for i in l:\n",
    "#     if type(i) == list or type(i) == tuple or type(i) == set:\n",
    "#         for j in i:\n",
    "#             if type(j) == int :\n",
    "#                 l2.append(j)\n",
    "#     if type(i) == dict:\n",
    "#         for j,k in i.items():\n",
    "#             if type(j) == int or type(k) == int:\n",
    "#                 l2.append(j)\n",
    "#                 l2.append(k)\n",
    "# print(l2)\n",
    "# mul = 1\n",
    "# for i in l2:\n",
    "#         mul = mul*i\n",
    "# print(mul)\n",
    "\n",
    "\n",
    "for i in l:\n",
    "    m = 1\n",
    "    if type(i) == list or type(i) == tuple or type(i) == set:\n",
    "        for j in i :\n",
    "            if type(j) == int :\n",
    "                m = m * j\n",
    "        print(type(j),m)\n",
    "    if type(i) == dict :\n",
    "        for k in i.items():\n",
    "            for n in k:\n",
    "                if type(n) == int :\n",
    "                    m = m * n\n",
    "        print(type(i),m)\n"
   ]
  },
  {
   "cell_type": "code",
   "execution_count": 35,
   "id": "5caf5d2e",
   "metadata": {},
   "outputs": [
    {
     "name": "stdout",
     "output_type": "stream",
     "text": [
      "[1, 2, 3, 4, 2, 3, 4, 5, 6, 3, 4, 5, 6, 7, 45, 4, 5, 23, 3, 6, 7, 8]\n"
     ]
    }
   ],
   "source": [
    "# Q15 : Try to unwrap all the collection inside collection and create a slat list\n",
    "908605071360000\n",
    "\n",
    "l = [[1,2,3,4] ,(2,3,4,5,6) , (3,4,5,6,7) , set([23,4,5,45,4,4,5,45,45,4,5]), {'k1': \"sudh\" , \"k2\" : \"ineuron\", \"k3\" : \"kumar\" , 3:6 , 7:8 } , [\"ineuron\" , \"data science\"] ]\n",
    "l2 = []\n",
    "\n",
    "for i in l:\n",
    "    if type(i) == list or type(i) == tuple or type(i) == set:\n",
    "        for j in i:\n",
    "            if type(j) == int :\n",
    "                l2.append(j)\n",
    "    if type(i) == dict:\n",
    "        for j,k in i.items():\n",
    "            if type(j) == int or type(k) == int:\n",
    "                l2.append(j)\n",
    "                l2.append(k)\n",
    "print(l2)\n"
   ]
  },
  {
   "cell_type": "code",
   "execution_count": 2,
   "id": "37f3ef40",
   "metadata": {},
   "outputs": [
    {
     "name": "stdout",
     "output_type": "stream",
     "text": [
      "Original List [[1, 2, 3, 4], (2, 3, 4, 5, 6), (3, 4, 5, 6, 7), {45, 4, 5, 23}, {'k1': 'sudh', 'k2': 'ineuron', 'k3': 'kumar', 3: 6, 7: 8}, ['ineuron', 'data science']]\n",
      "Transformed Flat List [[1, 2, 3, 4], 2, 3, 4, 5, 6, 3, 4, 5, 6, 7, 45, 4, 5, 23, 'k1', 'k2', 'k3', 3, 7, ['ineuron', 'data science']]\n"
     ]
    }
   ],
   "source": [
    "#Just for reference purpose\n",
    "\n",
    "\n",
    "\n",
    "#Question 15: Unwraping all data into flat list\n",
    "def flatten_list(list):\n",
    "    flat_list = []\n",
    "    # Iterate through the outer list\n",
    "    for element in list:\n",
    "        if type(element) == list or type(element) == set or type(element) == tuple or type(element) == dict:\n",
    "            # If the element is of type list, iterate through the sublist\n",
    "            for item in element:\n",
    "                flat_list.append(item)\n",
    "        else:\n",
    "            flat_list.append(element)\n",
    "    return flat_list\n",
    "\n",
    "nested_list = [[1,2,3,4],(2,3,4,5,6),(3,4,5,6,7),set([23,4,5,45,4,4,5,45,45,4,5]),{'k1':'sudh','k2':'ineuron','k3':'kumar',3:6,7:8},['ineuron','data science']]\n",
    "print('Original List', nested_list)\n",
    "print('Transformed Flat List', flatten_list(nested_list))"
   ]
  },
  {
   "cell_type": "code",
   "execution_count": null,
   "id": "006f8e53",
   "metadata": {},
   "outputs": [],
   "source": []
  }
 ],
 "metadata": {
  "kernelspec": {
   "display_name": "Python 3 (ipykernel)",
   "language": "python",
   "name": "python3"
  },
  "language_info": {
   "codemirror_mode": {
    "name": "ipython",
    "version": 3
   },
   "file_extension": ".py",
   "mimetype": "text/x-python",
   "name": "python",
   "nbconvert_exporter": "python",
   "pygments_lexer": "ipython3",
   "version": "3.9.7"
  }
 },
 "nbformat": 4,
 "nbformat_minor": 5
}

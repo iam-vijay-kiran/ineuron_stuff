{
 "cells": [
  {
   "cell_type": "code",
   "execution_count": null,
   "id": "4ba4c9ff",
   "metadata": {},
   "outputs": [],
   "source": [
    "## TASK-01\n",
    "\n",
    "# s = \"this is My First Python programming class and i am learNING python string and its function\"\n",
    "\n",
    "# 1. Try to extract data from index one to index 300 with a jump of 3\n",
    "# 2. Try to reverse a string without using reverse function\n",
    "# 3.Try to split a string after conversion of entire string in uppercase\n",
    "# 4.try to convert the whole string into lower case\n",
    "# 5.Try to capitalize the whole string\n",
    "# 6.Write a difference between isalnum() and isalpha()\n",
    "# 7.try to give an example of expand tab\n",
    "# 8.Give an example of strip, lstrip and rstrip\n",
    "# 9.Replace a string character by another character by taking your own example\n",
    "# 10.Try to give a definition of string center function with and example\n",
    "# 11. write your own definition of compiler and interpreter without copy and paste from internet in your own words\n",
    "# 12.Python is a interpreted or compiled language give a clear ans with your understanding\n",
    "# 13.Try to write a usecase of python with your understanding\n",
    "\n",
    "# https://codeshare.io/X8PY8Y       shivan@ineuron.ai by 21st may"
   ]
  },
  {
   "cell_type": "code",
   "execution_count": 6,
   "id": "a38a7040",
   "metadata": {},
   "outputs": [],
   "source": [
    "s = \"this is My First Python programming class and i am learNING python string and its function\""
   ]
  },
  {
   "cell_type": "code",
   "execution_count": 2,
   "id": "156505f4",
   "metadata": {},
   "outputs": [
    {
     "data": {
      "text/plain": [
       "'h   r tnrrmglsnimeNGyosi dtfco'"
      ]
     },
     "execution_count": 2,
     "metadata": {},
     "output_type": "execute_result"
    }
   ],
   "source": [
    "## 1. Try to extract data from index one to index 300 with a jump of 3\n",
    "\n",
    "s[1:300:3]"
   ]
  },
  {
   "cell_type": "code",
   "execution_count": 3,
   "id": "929ff2ec",
   "metadata": {},
   "outputs": [
    {
     "data": {
      "text/plain": [
       "'noitcnuf sti dna gnirts nohtyp GNINrael ma i dna ssalc gnimmargorp nohtyP tsriF yM si siht'"
      ]
     },
     "execution_count": 3,
     "metadata": {},
     "output_type": "execute_result"
    }
   ],
   "source": [
    "## 2. Try to reverse a string without using reverse function\n",
    "\n",
    "s[::-1]"
   ]
  },
  {
   "cell_type": "code",
   "execution_count": 8,
   "id": "4de00af1",
   "metadata": {},
   "outputs": [],
   "source": [
    "## 3.Try to split a string after conversion of entire string in uppercase\n",
    "\n",
    "s = s.upper()\n"
   ]
  },
  {
   "cell_type": "code",
   "execution_count": 9,
   "id": "4b4781d5",
   "metadata": {},
   "outputs": [
    {
     "data": {
      "text/plain": [
       "'THIS IS MY FIRST PYTHON PROGRAMMING CLASS AND I AM LEARNING PYTHON STRING AND ITS FUNCTION'"
      ]
     },
     "execution_count": 9,
     "metadata": {},
     "output_type": "execute_result"
    }
   ],
   "source": [
    "s"
   ]
  },
  {
   "cell_type": "code",
   "execution_count": 10,
   "id": "4a9a43cb",
   "metadata": {},
   "outputs": [
    {
     "data": {
      "text/plain": [
       "['THIS',\n",
       " 'IS',\n",
       " 'MY',\n",
       " 'FIRST',\n",
       " 'PYTHON',\n",
       " 'PROGRAMMING',\n",
       " 'CLASS',\n",
       " 'AND',\n",
       " 'I',\n",
       " 'AM',\n",
       " 'LEARNING',\n",
       " 'PYTHON',\n",
       " 'STRING',\n",
       " 'AND',\n",
       " 'ITS',\n",
       " 'FUNCTION']"
      ]
     },
     "execution_count": 10,
     "metadata": {},
     "output_type": "execute_result"
    }
   ],
   "source": [
    "s.split(\" \")"
   ]
  },
  {
   "cell_type": "code",
   "execution_count": 11,
   "id": "9603a311",
   "metadata": {},
   "outputs": [
    {
     "data": {
      "text/plain": [
       "'this is my first python programming class and i am learning python string and its function'"
      ]
     },
     "execution_count": 11,
     "metadata": {},
     "output_type": "execute_result"
    }
   ],
   "source": [
    "## 4.try to convert the whole string into lower case\n",
    "\n",
    "s = \"this is My First Python programming class and i am learNING python string and its function\"\n",
    "s.lower()"
   ]
  },
  {
   "cell_type": "code",
   "execution_count": 12,
   "id": "7d0accd5",
   "metadata": {},
   "outputs": [
    {
     "data": {
      "text/plain": [
       "'This is my first python programming class and i am learning python string and its function'"
      ]
     },
     "execution_count": 12,
     "metadata": {},
     "output_type": "execute_result"
    }
   ],
   "source": [
    "## 5.Try to capitalize the whole string\n",
    "\n",
    "s.capitalize()"
   ]
  },
  {
   "cell_type": "code",
   "execution_count": 13,
   "id": "f304a12a",
   "metadata": {},
   "outputs": [
    {
     "data": {
      "text/plain": [
       "'This Is My First Python Programming Class And I Am Learning Python String And Its Function'"
      ]
     },
     "execution_count": 13,
     "metadata": {},
     "output_type": "execute_result"
    }
   ],
   "source": [
    "\n",
    "s.title()\n"
   ]
  },
  {
   "cell_type": "code",
   "execution_count": 14,
   "id": "26b15637",
   "metadata": {},
   "outputs": [],
   "source": [
    "## 6. Write a difference between isalnum() and isalpha()\n",
    "\n",
    " s.isalnum() = returns true if string s has alpha numeric characters else returns false\n",
    "\n",
    " s.isalpha() = returns true if string s had alphabets as characters else returns false\n"
   ]
  },
  {
   "cell_type": "code",
   "execution_count": 15,
   "id": "f0f56619",
   "metadata": {},
   "outputs": [],
   "source": [
    "## 7.try to give an example of expand tab\n",
    "\n",
    "v = \"vijay\\tkiran\\tvj\"  # here \\t intimates the expand tab to expand from there as seperate terms"
   ]
  },
  {
   "cell_type": "code",
   "execution_count": 16,
   "id": "2c3dfb38",
   "metadata": {},
   "outputs": [
    {
     "data": {
      "text/plain": [
       "'vijay   kiran   vj'"
      ]
     },
     "execution_count": 16,
     "metadata": {},
     "output_type": "execute_result"
    }
   ],
   "source": [
    "v.expandtabs()"
   ]
  },
  {
   "cell_type": "code",
   "execution_count": 17,
   "id": "dc541598",
   "metadata": {},
   "outputs": [],
   "source": [
    "# 8.Give an example of strip, lstrip and rstrip\n",
    "\n",
    "v = \"    vijay kiran    \""
   ]
  },
  {
   "cell_type": "code",
   "execution_count": 18,
   "id": "c1843bf0",
   "metadata": {},
   "outputs": [
    {
     "data": {
      "text/plain": [
       "'vijay kiran'"
      ]
     },
     "execution_count": 18,
     "metadata": {},
     "output_type": "execute_result"
    }
   ],
   "source": [
    "v.strip()     ## strips the spaces prior and after spaces of string"
   ]
  },
  {
   "cell_type": "code",
   "execution_count": 19,
   "id": "dff3a2a9",
   "metadata": {},
   "outputs": [
    {
     "data": {
      "text/plain": [
       "'vijay kiran    '"
      ]
     },
     "execution_count": 19,
     "metadata": {},
     "output_type": "execute_result"
    }
   ],
   "source": [
    "v.lstrip()   ## left side of string spaces gets stripped"
   ]
  },
  {
   "cell_type": "code",
   "execution_count": 20,
   "id": "fb35d7f3",
   "metadata": {},
   "outputs": [
    {
     "data": {
      "text/plain": [
       "'    vijay kiran'"
      ]
     },
     "execution_count": 20,
     "metadata": {},
     "output_type": "execute_result"
    }
   ],
   "source": [
    "v.rstrip()  ## right side of string spaces gets stripped"
   ]
  },
  {
   "cell_type": "code",
   "execution_count": 23,
   "id": "a6d17ff8",
   "metadata": {},
   "outputs": [],
   "source": [
    "## 9.Replace a string character by another character by taking your own example\n",
    "\n",
    "# string.replace(old,new,count)\n",
    "\n",
    "string = \" this is a sample string\"\n"
   ]
  },
  {
   "cell_type": "code",
   "execution_count": 25,
   "id": "64aedc6f",
   "metadata": {},
   "outputs": [
    {
     "data": {
      "text/plain": [
       "' this is a SAMPLE string'"
      ]
     },
     "execution_count": 25,
     "metadata": {},
     "output_type": "execute_result"
    }
   ],
   "source": [
    "string.replace(\"sample\",\"SAMPLE\")"
   ]
  },
  {
   "cell_type": "code",
   "execution_count": 26,
   "id": "6570081d",
   "metadata": {},
   "outputs": [],
   "source": [
    "## 10.Try to give a definition of string center function with and example\n",
    "\n",
    "c = \"vijay\" "
   ]
  },
  {
   "cell_type": "code",
   "execution_count": 27,
   "id": "3d197cba",
   "metadata": {},
   "outputs": [
    {
     "data": {
      "text/plain": [
       "'----------vijay----------'"
      ]
     },
     "execution_count": 27,
     "metadata": {},
     "output_type": "execute_result"
    }
   ],
   "source": [
    "c.center(25,'-') # makes the string a center within given count number and other spaces are filled \n",
    "                 # with given dilemeters"
   ]
  },
  {
   "cell_type": "code",
   "execution_count": 28,
   "id": "b5a39ec0",
   "metadata": {},
   "outputs": [],
   "source": [
    "## 11. write your own definition of compiler and interpreter without copy and paste from internet in your own words\n",
    "\n",
    "\n",
    " compiler executes the whole code to system understandable code\n",
    "\n",
    " interpreter executes line by line to system understandable code\n"
   ]
  },
  {
   "cell_type": "code",
   "execution_count": 29,
   "id": "9d414c23",
   "metadata": {},
   "outputs": [],
   "source": [
    "## 12.Python is a interpreted or compiled language give a clear ans with your understanding\n",
    "\n",
    " python is  interpreted language as it executes line by line code"
   ]
  },
  {
   "cell_type": "code",
   "execution_count": null,
   "id": "e807164e",
   "metadata": {},
   "outputs": [],
   "source": [
    "## 13.Try to write a usecase of python with your understanding\n",
    "\n",
    " python is scripting and interpreted language.It is an easy to understand language with rich libraries \n",
    "\n",
    " which can be used almost everywhere where the performance is not a matter. \n",
    "\n",
    " Because python execution speed is little-bit low as compared to c++,java \n",
    "\n",
    " But as per the latest news at PyCon 2022 conference new version of python increased its speed by\n",
    "\n",
    " 1.25 times"
   ]
  }
 ],
 "metadata": {
  "kernelspec": {
   "display_name": "Python 3 (ipykernel)",
   "language": "python",
   "name": "python3"
  },
  "language_info": {
   "codemirror_mode": {
    "name": "ipython",
    "version": 3
   },
   "file_extension": ".py",
   "mimetype": "text/x-python",
   "name": "python",
   "nbconvert_exporter": "python",
   "pygments_lexer": "ipython3",
   "version": "3.9.7"
  }
 },
 "nbformat": 4,
 "nbformat_minor": 5
}

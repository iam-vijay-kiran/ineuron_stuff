{
 "cells": [
  {
   "cell_type": "markdown",
   "id": "8d30d90a-9e6a-4676-b3ee-cace94858dad",
   "metadata": {},
   "source": [
    "# 1. What exactly is []?\n",
    "\n",
    "It is an empty list"
   ]
  },
  {
   "cell_type": "markdown",
   "id": "a190336c-3cd6-4fb0-957a-b290709bb47d",
   "metadata": {},
   "source": [
    "# 2. In a list of values stored in a variable called spam, how would you assign the value 'hello' as the\n",
    "#    third value? (Assume [2, 4, 6, 8, 10] are in spam.)"
   ]
  },
  {
   "cell_type": "code",
   "execution_count": 1,
   "id": "7f3eb410-f28c-487b-8cc6-039230264fbc",
   "metadata": {},
   "outputs": [
    {
     "name": "stdout",
     "output_type": "stream",
     "text": [
      "[2, 4, 'hello', 8, 10]\n"
     ]
    }
   ],
   "source": [
    "spam = [2, 4, 6, 8, 10]\n",
    "spam[2] = 'hello'\n",
    "\n",
    "print(spam)"
   ]
  },
  {
   "cell_type": "markdown",
   "id": "87dc70de-574c-4a1b-a17c-7a21b5d35a76",
   "metadata": {},
   "source": [
    "# Let&#39;s pretend the spam includes the list ['a','b','c','d'] for the next three queries.\n",
    "\n",
    "\n",
    "#  3. What is the value of spam[int(int('3'/ * 2) / 11)]?"
   ]
  },
  {
   "cell_type": "code",
   "execution_count": 4,
   "id": "cb1825fa-7459-4f75-a659-6528f5f73ff5",
   "metadata": {},
   "outputs": [
    {
     "ename": "SyntaxError",
     "evalue": "invalid syntax (3348248207.py, line 3)",
     "output_type": "error",
     "traceback": [
      "\u001b[0;36m  Cell \u001b[0;32mIn [4], line 3\u001b[0;36m\u001b[0m\n\u001b[0;31m    spam[int(int('3'/ * 2) / 11)]\u001b[0m\n\u001b[0m                      ^\u001b[0m\n\u001b[0;31mSyntaxError\u001b[0m\u001b[0;31m:\u001b[0m invalid syntax\n"
     ]
    }
   ],
   "source": [
    "spam = ['a','b','c','d']\n",
    "\n",
    "spam[int(int('3'/ * 2) / 11)]\n",
    "\n",
    "print(spam)"
   ]
  },
  {
   "cell_type": "markdown",
   "id": "3689f78b-f5a1-4bd0-bc02-8f1fef9e03d8",
   "metadata": {},
   "source": [
    "# 4. What is the value of spam[-1]?"
   ]
  },
  {
   "cell_type": "code",
   "execution_count": 5,
   "id": "fd2ecab4-847a-476c-8542-e09643f2c3fc",
   "metadata": {},
   "outputs": [
    {
     "name": "stdout",
     "output_type": "stream",
     "text": [
      "d\n"
     ]
    }
   ],
   "source": [
    "print(spam[-1])"
   ]
  },
  {
   "cell_type": "markdown",
   "id": "05b268ab-4de3-448c-8c66-6bff3c86c1e7",
   "metadata": {},
   "source": [
    "# 5. What is the value of spam[:2]?"
   ]
  },
  {
   "cell_type": "code",
   "execution_count": 6,
   "id": "93530e52-e31f-46b9-9824-0666ff99029c",
   "metadata": {},
   "outputs": [
    {
     "name": "stdout",
     "output_type": "stream",
     "text": [
      "['a', 'b']\n"
     ]
    }
   ],
   "source": [
    "print(spam[:2])"
   ]
  },
  {
   "cell_type": "markdown",
   "id": "4e89479c-2e4b-47f8-8fe8-0342a1f37d4c",
   "metadata": {},
   "source": [
    "# Let's pretend bacon has the list [3.14, 'cat', 11, 'cat', True] for the next three questions."
   ]
  },
  {
   "cell_type": "markdown",
   "id": "4d0d0457-1da4-496d-8e84-76b0558e1d0d",
   "metadata": {},
   "source": [
    "# 6. What is the value of bacon.index('cat')?"
   ]
  },
  {
   "cell_type": "code",
   "execution_count": 8,
   "id": "722a4a4e-db99-445a-b365-5dd489c2fac6",
   "metadata": {},
   "outputs": [
    {
     "data": {
      "text/plain": [
       "1"
      ]
     },
     "execution_count": 8,
     "metadata": {},
     "output_type": "execute_result"
    }
   ],
   "source": [
    "bacon = [3.14,'cat',11,'cat',True]\n",
    "bacon.index('cat')"
   ]
  },
  {
   "cell_type": "markdown",
   "id": "5ac197fd-5835-4a60-a98b-f7861d588d63",
   "metadata": {},
   "source": [
    "# 7. How does bacon.append(99) change the look of the list value in bacon?"
   ]
  },
  {
   "cell_type": "code",
   "execution_count": 16,
   "id": "5b0e92f0-e196-49ad-9af4-8cdb91bacd82",
   "metadata": {},
   "outputs": [
    {
     "name": "stdout",
     "output_type": "stream",
     "text": [
      "[3.14, 'cat', 11, 'cat', True, 99]\n"
     ]
    }
   ],
   "source": [
    "bacon.append(99)\n",
    "print(bacon)"
   ]
  },
  {
   "cell_type": "markdown",
   "id": "1d2aea96-f2fc-4d0f-8ed2-bc34476e2955",
   "metadata": {},
   "source": [
    " # 8. How does bacon.remove('cat') change the look of the list in bacon?"
   ]
  },
  {
   "cell_type": "code",
   "execution_count": 18,
   "id": "5aafff0c-8e7e-4f34-911f-db03aa06bb2f",
   "metadata": {},
   "outputs": [
    {
     "name": "stdout",
     "output_type": "stream",
     "text": [
      "[3.14, 11, 'cat', True, 99]\n"
     ]
    }
   ],
   "source": [
    "bacon.remove('cat')\n",
    "print(bacon)"
   ]
  },
  {
   "cell_type": "markdown",
   "id": "e5c3c0c0-798c-4122-b2e6-92e7fbb36d62",
   "metadata": {},
   "source": [
    "# 9. What are the list concatenation and list replication operators?"
   ]
  },
  {
   "cell_type": "markdown",
   "id": "2c5cb954-ddb9-4e48-bfce-00a1efd69d6e",
   "metadata": {},
   "source": [
    "List Concatination : Concatenation of lists is an operation where the elements of one list are added at the end\n",
    "                       of another list. The operator for list concatenation is +\n",
    "\n",
    "List Replication :   Operation which replicates the elements of the list. The operator for list concatenation is *"
   ]
  },
  {
   "cell_type": "markdown",
   "id": "289e0bb6-3b65-4459-b6c5-c0a3ce284b37",
   "metadata": {},
   "source": [
    "# 10. What is difference between the list methods append() and insert()?"
   ]
  },
  {
   "cell_type": "code",
   "execution_count": null,
   "id": "3a8831b5-5b3e-4309-ac52-520ad59e9a83",
   "metadata": {},
   "outputs": [],
   "source": [
    "# Append = adds data at hte end of list\n",
    "\n",
    "# insert = inserts data at specified index of list"
   ]
  },
  {
   "cell_type": "markdown",
   "id": "1fd70589-4e62-4972-b4e1-0d68500b91ab",
   "metadata": {},
   "source": [
    "# 11. What are the two methods for removing items from a list?"
   ]
  },
  {
   "cell_type": "code",
   "execution_count": null,
   "id": "2f36bafc-0d40-436b-a23f-40fbe125224f",
   "metadata": {},
   "outputs": [],
   "source": [
    "#  list.remove()\n",
    " \n",
    "#  list.pop()"
   ]
  },
  {
   "cell_type": "markdown",
   "id": "420d60a7-3c3c-4d8a-8a92-aeda4de371a4",
   "metadata": {},
   "source": [
    "# 12. Describe how list values and string values are identical."
   ]
  },
  {
   "cell_type": "code",
   "execution_count": null,
   "id": "d760b72e-11e8-4926-9f08-4c01f4aa0360",
   "metadata": {},
   "outputs": [],
   "source": [
    "# The values that make up a list are called its elements. Lists are similar to strings, which are ordered\n",
    "# collections of characters, except that the elements of a list can have any type and for any one list, the items \n",
    "# can be of different types."
   ]
  },
  {
   "cell_type": "markdown",
   "id": "c4f4e170-d23c-4705-89d4-bf13e45ab85e",
   "metadata": {},
   "source": [
    "# 13. What's the difference between tuples and lists?"
   ]
  },
  {
   "cell_type": "code",
   "execution_count": null,
   "id": "dae66178-de69-459b-841f-2ab6c7169ce2",
   "metadata": {},
   "outputs": [],
   "source": [
    "# Tuples = these are shown with ( )\n",
    "#          Immutable type\n",
    "\n",
    "# Lists =  these are shown by [ ]\n",
    "#          Mutable type"
   ]
  },
  {
   "cell_type": "markdown",
   "id": "9d7fd050-5dac-44d6-ad19-412b0190d484",
   "metadata": {},
   "source": [
    "# 14. How do you type a tuple value that only contains the integer 42?"
   ]
  },
  {
   "cell_type": "code",
   "execution_count": 21,
   "id": "50fce42d-64d9-4881-9356-db6c0f057677",
   "metadata": {},
   "outputs": [
    {
     "name": "stdout",
     "output_type": "stream",
     "text": [
      "42\n"
     ]
    }
   ],
   "source": [
    "a = (42)\n",
    "print(a)"
   ]
  },
  {
   "cell_type": "markdown",
   "id": "df4d2668-993b-498c-a9c7-328c86ab76ca",
   "metadata": {},
   "source": [
    "# 15. How do you get a list value&#39;s tuple form? How do you get a tuple value&#39;s list form?"
   ]
  },
  {
   "cell_type": "code",
   "execution_count": 25,
   "id": "2cff694c-b487-4aef-b4dd-423192339fd3",
   "metadata": {},
   "outputs": [
    {
     "name": "stdout",
     "output_type": "stream",
     "text": [
      "('Compile', 'With', 'Favtutor')\n",
      "<class 'tuple'>\n"
     ]
    }
   ],
   "source": [
    "# using tuple() and list() we can convert tuple to list and vice versa. below are example\n",
    "\n",
    "\n",
    "\n",
    "sample_list = ['Compile', 'With', 'Favtutor']\n",
    "\n",
    "#convert list into tuple\n",
    "tuple1 = tuple(sample_list)\n",
    "\n",
    "print(tuple1)\n",
    "print(type(tuple1))"
   ]
  },
  {
   "cell_type": "code",
   "execution_count": 24,
   "id": "aca6d4dc-0bd3-4313-bf6b-a0275a69d194",
   "metadata": {},
   "outputs": [
    {
     "name": "stdout",
     "output_type": "stream",
     "text": [
      "<class 'list'>\n"
     ]
    }
   ],
   "source": [
    "tuple2 = list(tuple1)\n",
    "print(type(tuple2))"
   ]
  },
  {
   "cell_type": "markdown",
   "id": "3a8a1234-f2b8-4964-82a3-83643761b18a",
   "metadata": {},
   "source": [
    "# 16. Variables that &quot;contain&quot; list values are not necessarily lists themselves. Instead, what do they contain?"
   ]
  },
  {
   "cell_type": "code",
   "execution_count": 26,
   "id": "f87baff2-e863-4a95-8fdc-ff4e1d17b86a",
   "metadata": {},
   "outputs": [],
   "source": [
    "# They contain all types of values like strings,integers,numbers in a set of collection"
   ]
  },
  {
   "cell_type": "markdown",
   "id": "66fd0706-0aa4-41b4-b102-e3d85e291658",
   "metadata": {},
   "source": [
    "# 17. How do you distinguish between copy.copy() and copy.deepcopy()?"
   ]
  },
  {
   "cell_type": "code",
   "execution_count": null,
   "id": "9d1264f8-c0d4-4450-b425-c6c863b65228",
   "metadata": {},
   "outputs": [],
   "source": []
  }
 ],
 "metadata": {
  "kernelspec": {
   "display_name": "Python 3 (ipykernel)",
   "language": "python",
   "name": "python3"
  },
  "language_info": {
   "codemirror_mode": {
    "name": "ipython",
    "version": 3
   },
   "file_extension": ".py",
   "mimetype": "text/x-python",
   "name": "python",
   "nbconvert_exporter": "python",
   "pygments_lexer": "ipython3",
   "version": "3.10.6"
  }
 },
 "nbformat": 4,
 "nbformat_minor": 5
}

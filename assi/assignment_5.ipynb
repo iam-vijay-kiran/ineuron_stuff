{
 "cells": [
  {
   "cell_type": "markdown",
   "id": "f81f34c8-7549-4387-8fbd-54388e8a023e",
   "metadata": {},
   "source": [
    "# 1. What does an empty dictionary's code look like?"
   ]
  },
  {
   "cell_type": "code",
   "execution_count": 5,
   "id": "b0302578-f626-4891-8fce-b690e08ce0bd",
   "metadata": {},
   "outputs": [
    {
     "name": "stdout",
     "output_type": "stream",
     "text": [
      "<class 'dict'>\n"
     ]
    }
   ],
   "source": [
    "# To create an empty dictionary, the dictionary should be set to {}.\n",
    "\n",
    "dict1 = {}\n",
    "print(type(dict1))"
   ]
  },
  {
   "cell_type": "markdown",
   "id": "d3029fdb-37d8-4547-8b33-7da335d2d14b",
   "metadata": {},
   "source": [
    "# 2. What is the value of a dictionary value with the key 'foo' and the value 42?"
   ]
  },
  {
   "cell_type": "code",
   "execution_count": 4,
   "id": "76da925b-4c54-45f7-bd40-9465cd74c2f9",
   "metadata": {},
   "outputs": [
    {
     "name": "stdout",
     "output_type": "stream",
     "text": [
      "<class 'dict'>\n"
     ]
    }
   ],
   "source": [
    "dict2 = { 'foo' : 42 }\n",
    "print(type(dict2))"
   ]
  },
  {
   "cell_type": "markdown",
   "id": "e30abae4-592b-4f1d-8e3c-d6def84503df",
   "metadata": {},
   "source": [
    "# 3. What is the most significant distinction between a dictionary and a list?"
   ]
  },
  {
   "cell_type": "code",
   "execution_count": 6,
   "id": "c5aa1ad8-e37e-46ac-b0a2-e40047ae0f31",
   "metadata": {},
   "outputs": [],
   "source": [
    "# Dictionary is having KEY, VALUE pairs as elements\n",
    "\n",
    "# List is having combination of different types of elements rather than key,value pairs  "
   ]
  },
  {
   "cell_type": "markdown",
   "id": "6f7e4686-ab51-449b-ab34-5e868f95d75e",
   "metadata": {},
   "source": [
    "# 4. What happens if you try to access spam[&#39;foo&#39;] if spam is {&#39;bar&#39;: 100}?"
   ]
  },
  {
   "cell_type": "code",
   "execution_count": 9,
   "id": "c5b71cc6-604f-4d4c-b99e-50e2bffe433a",
   "metadata": {},
   "outputs": [
    {
     "ename": "KeyError",
     "evalue": "'foo'",
     "output_type": "error",
     "traceback": [
      "\u001b[0;31m---------------------------------------------------------------------------\u001b[0m",
      "\u001b[0;31mKeyError\u001b[0m                                  Traceback (most recent call last)",
      "Cell \u001b[0;32mIn [9], line 5\u001b[0m\n\u001b[1;32m      1\u001b[0m \u001b[38;5;66;03m# error raises because it doesn't have bar as key or value since it changed it elements to new key value pairs \u001b[39;00m\n\u001b[1;32m      3\u001b[0m spam \u001b[38;5;241m=\u001b[39m {\u001b[38;5;124m'\u001b[39m\u001b[38;5;124mbar\u001b[39m\u001b[38;5;124m'\u001b[39m: \u001b[38;5;241m100\u001b[39m}\n\u001b[0;32m----> 5\u001b[0m x \u001b[38;5;241m=\u001b[39m \u001b[43mspam\u001b[49m\u001b[43m[\u001b[49m\u001b[38;5;124;43m'\u001b[39;49m\u001b[38;5;124;43mfoo\u001b[39;49m\u001b[38;5;124;43m'\u001b[39;49m\u001b[43m]\u001b[49m\n\u001b[1;32m      6\u001b[0m \u001b[38;5;28mprint\u001b[39m(x)\n",
      "\u001b[0;31mKeyError\u001b[0m: 'foo'"
     ]
    }
   ],
   "source": [
    "# error raises because it doesn't have bar as key or value since it changed it elements to new key value pairs \n",
    "\n",
    "spam = {'bar': 100}\n",
    "\n",
    "x = spam['foo']\n",
    "print(x)"
   ]
  },
  {
   "cell_type": "markdown",
   "id": "7b25fc13-4838-4ade-a016-61ea905e8758",
   "metadata": {},
   "source": [
    "# 5. If a dictionary is stored in spam, what is the difference between the expressions 'cat' in spam and 'cat' in spam.keys()?\n",
    "\n"
   ]
  },
  {
   "cell_type": "code",
   "execution_count": 11,
   "id": "5a5a7000-427c-412d-9841-c193df1bf6fe",
   "metadata": {},
   "outputs": [],
   "source": [
    "# There is no difference. The in operator checks whether a value exists as a key in the dictionary.'cat'\n",
    "# in spam checks whether there is a 'cat' key in the dictionary, while 'cat' in spam.values()\n",
    "# checks whether there is a value 'cat' for one of the keys in spam ."
   ]
  },
  {
   "cell_type": "markdown",
   "id": "2558fa5f-e3fb-4fbf-b97b-08dac46d4b3e",
   "metadata": {},
   "source": [
    "# 6. If a dictionary is stored in spam, what is the difference between the expressions &#39;cat&#39; in spam and 'cat'; in spam.values()?"
   ]
  },
  {
   "cell_type": "code",
   "execution_count": 12,
   "id": "7241eb17-d1f0-4840-9043-b2a4301d86ba",
   "metadata": {},
   "outputs": [],
   "source": [
    "# There is no difference. The in operator checks whether a value exists as a key in the dictionary. 'cat'\n",
    "# in spam checks whether there is a 'cat' key in the dictionary, while 'cat' in spam. values()\n",
    "# checks whether there is a value 'cat' for one of the keys in spam ."
   ]
  },
  {
   "cell_type": "markdown",
   "id": "8d2ac393-e28f-4938-bf16-2c21c5003418",
   "metadata": {},
   "source": [
    "#  7. What is a shortcut for the following code?\n",
    "# if 'color' not in spam:\n",
    "# spam['color'] = 'black'"
   ]
  },
  {
   "cell_type": "code",
   "execution_count": null,
   "id": "02e7228e-44b5-470d-ad39-5a4742e3ae95",
   "metadata": {},
   "outputs": [],
   "source": []
  }
 ],
 "metadata": {
  "kernelspec": {
   "display_name": "Python 3 (ipykernel)",
   "language": "python",
   "name": "python3"
  },
  "language_info": {
   "codemirror_mode": {
    "name": "ipython",
    "version": 3
   },
   "file_extension": ".py",
   "mimetype": "text/x-python",
   "name": "python",
   "nbconvert_exporter": "python",
   "pygments_lexer": "ipython3",
   "version": "3.10.6"
  }
 },
 "nbformat": 4,
 "nbformat_minor": 5
}

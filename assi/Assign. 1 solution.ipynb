{
 "cells": [
  {
   "cell_type": "markdown",
   "id": "e85240fe",
   "metadata": {},
   "source": [
    "1. In the below elements which of them are values or an expression? eg:- values can be integer or string and expressions will be mathematical operators.\n",
    "* \n",
    "'hello'\n",
    "-87.8\n",
    "- \n",
    "/ \n",
    "+\n",
    "6 \n",
    "\n",
    "\n",
    "values == 'hello' , 6 , -87.8\n",
    "\n",
    "expressions ==  - , / , +"
   ]
  },
  {
   "cell_type": "markdown",
   "id": "df8cc7bd",
   "metadata": {},
   "source": [
    "2. What is the difference between string and variable?\n",
    "\n",
    "variables are symbols that are used to store necessary data in it.\n",
    "\n",
    "strings are data which is placed in between ' ' or \" \" or ''' ''' and assigned or stored in a vairable.\n",
    "\n",
    "For example :  a = \"b\"\n",
    "\n",
    "here \"b\" is the data which is assigned or stored in variable called a."
   ]
  },
  {
   "cell_type": "markdown",
   "id": "f6ad18dc",
   "metadata": {},
   "source": [
    "3. Describe three different data types.\n",
    "\n",
    "There are many data types but lets discuss about string , list , tuples for now\n",
    "\n",
    "string == strings are data which is placed in between ' ' or \" \" or ''' ''' and assigned or stored in           a vairable. strings are immutable which states that value of string cannot be updated\n",
    "          \n",
    "          example: \"python\" , 'anaconda' , ''' are not snakes and these are used for programming '''\n",
    "\n",
    "list  ==  data stored in between [] are called as list. lists are mutable.\n",
    "          \n",
    "          example: [1,2,3,4,4] , [\"abc\",\"def\",\"ghi\"]\n",
    "          \n",
    "tuples == data stored between () are called tuples. tuples are immutable.\n",
    "\n",
    "          example: (1,2,3,4,5) , ('a','b','c','d' )\n",
    "          \n",
    "          "
   ]
  },
  {
   "cell_type": "markdown",
   "id": "3f0b863c",
   "metadata": {},
   "source": [
    "4. What is an expression made up of? What do all expressions do?\n",
    "\n",
    " define,declare or assign either of 3 done to a variable is called an expression.\n",
    " They do store the value like\n",
    " \n",
    " a = 10\n"
   ]
  },
  {
   "cell_type": "markdown",
   "id": "700bf54d",
   "metadata": {},
   "source": [
    "5. This assignment statements, like spam = 10. What is the difference between an expression and a        statement?\n",
    "\n",
    "assigning the operational values to a variable is called a statement\n",
    "for example :\n",
    "\n",
    "   b = a/2\n",
    "   \n",
    "the whole line b = a/2 is called as a statement"
   ]
  },
  {
   "cell_type": "code",
   "execution_count": 4,
   "id": "98ee5001",
   "metadata": {},
   "outputs": [
    {
     "name": "stdout",
     "output_type": "stream",
     "text": [
      "23\n"
     ]
    }
   ],
   "source": [
    "# 6. After running the following code, what does the variable bacon contain?\n",
    "#     bacon = 22\n",
    "#     bacon + 1\n",
    "   \n",
    "#    bacon gets successive iterate with 1 and becon = 23\n",
    "\n",
    "becon = 22\n",
    "print(becon)\n"
   ]
  },
  {
   "cell_type": "markdown",
   "id": "9909c6e5",
   "metadata": {},
   "source": [
    "7. What should the values of the following two terms be?\n",
    "'spam' + 'spamspam'\n",
    "'spam' * 3\n",
    "\n",
    "\n",
    "'spam' + 'spamspam'  ==  'spamspamspam'\n",
    "\n",
    "'spam' * 3  == 'spamspamspam'\n",
    "\n",
    "\n"
   ]
  },
  {
   "cell_type": "code",
   "execution_count": 2,
   "id": "cb41fbc2",
   "metadata": {},
   "outputs": [
    {
     "name": "stdout",
     "output_type": "stream",
     "text": [
      "spamspamspam\n"
     ]
    }
   ],
   "source": [
    "print('spam' + 'spamspam')"
   ]
  },
  {
   "cell_type": "markdown",
   "id": "2019ef44",
   "metadata": {},
   "source": [
    "8. Why is eggs a valid variable name while 100 is invalid?\n",
    "\n",
    "  100 is an fixed value of integer type which cannot be assigned to any value as variable.\n",
    "  \n",
    "  "
   ]
  },
  {
   "cell_type": "markdown",
   "id": "988ede3d",
   "metadata": {},
   "source": [
    "9. What three functions can be used to get the integer, floating-point number, or string version of a value?\n",
    "\n",
    "1.int(value) = changes value to int type \n",
    "\n",
    "2.float(value) = changes value to float type\n",
    "\n",
    "3.str(value) = changes value to string type\n",
    "\n",
    "this are 3 functions used to get respective versions of value"
   ]
  },
  {
   "cell_type": "code",
   "execution_count": 3,
   "id": "d253cdb7",
   "metadata": {},
   "outputs": [
    {
     "name": "stdout",
     "output_type": "stream",
     "text": [
      "I have eaten 99 burritos.\n"
     ]
    }
   ],
   "source": [
    "# 10. Why does this expression cause an error? How can you fix it?\n",
    "#     'I have eaten ' + 99 + ' burritos.'\n",
    "\n",
    "# Expression error = additon of int and string is not possible\n",
    "\n",
    "print('I have eaten ' + '99' + ' burritos.')  # fixed"
   ]
  },
  {
   "cell_type": "code",
   "execution_count": null,
   "id": "a6381773",
   "metadata": {},
   "outputs": [],
   "source": []
  }
 ],
 "metadata": {
  "kernelspec": {
   "display_name": "Python 3 (ipykernel)",
   "language": "python",
   "name": "python3"
  },
  "language_info": {
   "codemirror_mode": {
    "name": "ipython",
    "version": 3
   },
   "file_extension": ".py",
   "mimetype": "text/x-python",
   "name": "python",
   "nbconvert_exporter": "python",
   "pygments_lexer": "ipython3",
   "version": "3.9.7"
  }
 },
 "nbformat": 4,
 "nbformat_minor": 5
}

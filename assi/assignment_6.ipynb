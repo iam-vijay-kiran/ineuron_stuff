{
 "cells": [
  {
   "cell_type": "markdown",
   "id": "ba1d43d0-9aea-457b-910f-d8bbd94e8408",
   "metadata": {},
   "source": [
    "# 1. What are escape characters, and how do you use them?"
   ]
  },
  {
   "cell_type": "code",
   "execution_count": 1,
   "id": "d26560eb-fc1a-404f-8f39-d191f2985102",
   "metadata": {},
   "outputs": [],
   "source": [
    "# To insert characters that are illegal in a string, use an escape character.\n",
    "# An escape character is a backslash \\ followed by the character you want to insert."
   ]
  },
  {
   "cell_type": "markdown",
   "id": "e6ddc671-03f3-41ca-ba42-841b95c77df1",
   "metadata": {},
   "source": [
    "# 2. What do the escape characters n and t stand for?"
   ]
  },
  {
   "cell_type": "code",
   "execution_count": 3,
   "id": "51b2f084-b1f1-475a-b99a-87d2a5349c38",
   "metadata": {},
   "outputs": [],
   "source": [
    "# \\n = new line\n",
    "\n",
    "# \\t = tab "
   ]
  },
  {
   "cell_type": "markdown",
   "id": "683e241a-cb77-4fc0-a807-2faa6a28261b",
   "metadata": {},
   "source": [
    "# 3. What is the way to include backslash characters in a string?"
   ]
  },
  {
   "cell_type": "code",
   "execution_count": 5,
   "id": "a1256c14-de94-4677-a449-744dad9e5bf5",
   "metadata": {},
   "outputs": [],
   "source": [
    "# To insert characters that are illegal in a string, use an escape character.\n",
    "# An escape character is a backslash \\ followed by the character you want to insert.\n",
    "# example below: \n",
    "\n",
    "txt = \"We are the so-called \\\"Vikings\\\" from the north.\""
   ]
  },
  {
   "cell_type": "markdown",
   "id": "eebf567b-1013-4780-b78a-b6f0e0d8cb55",
   "metadata": {},
   "source": [
    "# 4. The string \"How|s Moving Castle\" is a correct value. Why isn't the single quote character in the word How|s not escaped a problem?"
   ]
  },
  {
   "cell_type": "code",
   "execution_count": 9,
   "id": "bba16961-2ae7-4285-aecc-727325425b01",
   "metadata": {},
   "outputs": [
    {
     "data": {
      "text/plain": [
       "'How|s Moving Castle'"
      ]
     },
     "execution_count": 9,
     "metadata": {},
     "output_type": "execute_result"
    }
   ],
   "source": [
    "# As per question it is saying not escaped but after compiling it escaped. So please check the question once\n",
    "\n",
    "\"How|s Moving Castle\""
   ]
  },
  {
   "cell_type": "markdown",
   "id": "54bbda0c-f3ac-46cd-a947-6a3444aaef11",
   "metadata": {},
   "source": [
    "# 5. How do you write a string of newlines if you don&#39;t want to use the n character?"
   ]
  },
  {
   "cell_type": "code",
   "execution_count": 13,
   "id": "f78a98ee-ba6d-4a5f-b45c-6dfac66d85bf",
   "metadata": {},
   "outputs": [
    {
     "name": "stdout",
     "output_type": "stream",
     "text": [
      "hello \n",
      " world\n",
      "Hello!\n",
      "Welcome to datagy!\n"
     ]
    }
   ],
   "source": [
    "print(\"hello \\n world\")  \n",
    "\n",
    "\n",
    "# this is the other way to print in new line without using n chracter \n",
    "\n",
    "string = \"\"\"Hello!\n",
    "Welcome to datagy!\"\"\"\n",
    "print(string)"
   ]
  },
  {
   "cell_type": "markdown",
   "id": "8dc05437-f611-4147-8103-19eabe83ec73",
   "metadata": {},
   "source": [
    "# 6. What are the values of the given expressions?\n",
    "\n",
    "    'Hello, world!'[1]\n",
    "    'Hello, world!'[0:5]\n",
    "    'Hello, world!'[:5]\n",
    "    'Hello, world!'[3:]"
   ]
  },
  {
   "cell_type": "code",
   "execution_count": 14,
   "id": "527479f4-7b5d-48c4-a7de-c421b7380708",
   "metadata": {},
   "outputs": [],
   "source": [
    "x = 'Hello, world!'"
   ]
  },
  {
   "cell_type": "code",
   "execution_count": 15,
   "id": "5e66c967-a76e-4758-b2ce-46adaa2e12c7",
   "metadata": {},
   "outputs": [
    {
     "name": "stdout",
     "output_type": "stream",
     "text": [
      "e\n"
     ]
    }
   ],
   "source": [
    "print(x[1])"
   ]
  },
  {
   "cell_type": "code",
   "execution_count": 16,
   "id": "1c454514-3b0f-4fdd-9e39-77d5700c6ee3",
   "metadata": {},
   "outputs": [
    {
     "name": "stdout",
     "output_type": "stream",
     "text": [
      "Hello\n"
     ]
    }
   ],
   "source": [
    "print(x[0:5])"
   ]
  },
  {
   "cell_type": "code",
   "execution_count": 17,
   "id": "0688e2bf-e427-443b-8695-10a3b604f84e",
   "metadata": {},
   "outputs": [
    {
     "name": "stdout",
     "output_type": "stream",
     "text": [
      "Hello\n"
     ]
    }
   ],
   "source": [
    "print(x[:5])"
   ]
  },
  {
   "cell_type": "code",
   "execution_count": 18,
   "id": "f8194f0a-de2a-4cf1-81ec-ed3f1751cfbd",
   "metadata": {},
   "outputs": [
    {
     "name": "stdout",
     "output_type": "stream",
     "text": [
      "lo, world!\n"
     ]
    }
   ],
   "source": [
    "print(x[3:])"
   ]
  },
  {
   "cell_type": "markdown",
   "id": "b92ac208-d9e3-4667-9635-f9548184f8a3",
   "metadata": {},
   "source": [
    "# 7. What are the values of the following expressions?\n",
    "    'Hello'.upper()\n",
    "    'Hello'.upper().isupper()\n",
    "    'Hello'.upper().lower()"
   ]
  },
  {
   "cell_type": "code",
   "execution_count": 20,
   "id": "c9314339-fdab-42ad-af67-191a304be959",
   "metadata": {},
   "outputs": [
    {
     "data": {
      "text/plain": [
       "'HELLO'"
      ]
     },
     "execution_count": 20,
     "metadata": {},
     "output_type": "execute_result"
    }
   ],
   "source": [
    "'Hello'.upper()\n"
   ]
  },
  {
   "cell_type": "code",
   "execution_count": 21,
   "id": "eac06866-632e-4272-be19-e19ccb9732dd",
   "metadata": {},
   "outputs": [
    {
     "data": {
      "text/plain": [
       "True"
      ]
     },
     "execution_count": 21,
     "metadata": {},
     "output_type": "execute_result"
    }
   ],
   "source": [
    "'Hello'.upper().isupper()\n"
   ]
  },
  {
   "cell_type": "code",
   "execution_count": 22,
   "id": "fd9a04bd-4d67-4d1d-a744-7a48d3663d60",
   "metadata": {},
   "outputs": [
    {
     "data": {
      "text/plain": [
       "'hello'"
      ]
     },
     "execution_count": 22,
     "metadata": {},
     "output_type": "execute_result"
    }
   ],
   "source": [
    "'Hello'.upper().lower()"
   ]
  },
  {
   "cell_type": "markdown",
   "id": "679359ac-9c66-4bd7-ad5b-266e4d714334",
   "metadata": {},
   "source": [
    "# 8. What are the values of the following expressions?\n",
    "    'Remember, remember, the fifth of July.'.split()\n",
    "    '-'.join('There can only one.'.split())"
   ]
  },
  {
   "cell_type": "code",
   "execution_count": 23,
   "id": "64e96699-0b51-46c4-bfb2-3ba9e12b5465",
   "metadata": {},
   "outputs": [
    {
     "data": {
      "text/plain": [
       "['Remember,', 'remember,', 'the', 'fifth', 'of', 'July.']"
      ]
     },
     "execution_count": 23,
     "metadata": {},
     "output_type": "execute_result"
    }
   ],
   "source": [
    "'Remember, remember, the fifth of July.'.split()"
   ]
  },
  {
   "cell_type": "code",
   "execution_count": 25,
   "id": "e08f6560-1ac7-4fe3-85ba-0db4ce40cfa5",
   "metadata": {},
   "outputs": [
    {
     "data": {
      "text/plain": [
       "'There-can-only-one.'"
      ]
     },
     "execution_count": 25,
     "metadata": {},
     "output_type": "execute_result"
    }
   ],
   "source": [
    "'-'.join('There can only one.'.split())"
   ]
  },
  {
   "cell_type": "markdown",
   "id": "00dd25c2-945b-4726-95b4-75ea2db7b4fc",
   "metadata": {},
   "source": [
    "# 9. What are the methods for right-justifying, left-justifying, and centering a string?"
   ]
  },
  {
   "cell_type": "code",
   "execution_count": 29,
   "id": "68991e23-1611-4fa9-9c5c-1f13489cd646",
   "metadata": {},
   "outputs": [
    {
     "name": "stdout",
     "output_type": "stream",
     "text": [
      "The original string is : \n",
      " This is the statement \n",
      "\n",
      "The center aligned string is : \n",
      "         This is the statement           \n",
      "\n",
      "Center aligned string with fillchr: \n",
      "#########This is the statement##########\n"
     ]
    }
   ],
   "source": [
    " \n",
    "cstr = \"This is the statement\"\n",
    "  \n",
    "# Printing the original string\n",
    "print (\"The original string is : \\n\", cstr, \"\\n\")\n",
    "  \n",
    "# Printing the center aligned string \n",
    "print (\"The center aligned string is : \")\n",
    "print (cstr.center(40), \"\\n\")\n",
    "  \n",
    "# Printing the center aligned \n",
    "# string with fillchr\n",
    "print (\"Center aligned string with fillchr: \")\n",
    "print (cstr.center(40, '#'))"
   ]
  },
  {
   "cell_type": "code",
   "execution_count": 30,
   "id": "2662ed6d-4831-4fda-8cf9-8cca9eb13c82",
   "metadata": {},
   "outputs": [
    {
     "name": "stdout",
     "output_type": "stream",
     "text": [
      "The original string is : \n",
      " This is the statement \n",
      "\n",
      "The left aligned string is : \n",
      "This is the statement-------------------\n"
     ]
    }
   ],
   "source": [
    "lstr = \"This is the statement\"\n",
    "  \n",
    "# Printing the original string\n",
    "print (\"The original string is : \\n\", lstr, \"\\n\")\n",
    "  \n",
    "# Printing the left aligned \n",
    "# string with \"-\" padding \n",
    "print (\"The left aligned string is : \")\n",
    "print (lstr.ljust(40, '-'))"
   ]
  },
  {
   "cell_type": "code",
   "execution_count": 32,
   "id": "4ed298d3-7922-44e4-982a-303d6ceec8d9",
   "metadata": {},
   "outputs": [
    {
     "name": "stdout",
     "output_type": "stream",
     "text": [
      "The original string is : \n",
      " This is the statement \n",
      "\n",
      "The right aligned string is : \n",
      "-------------------This is the statement\n"
     ]
    }
   ],
   "source": [
    "rstr = \"This is the statement\"\n",
    "  \n",
    "# Printing the original string\n",
    "print (\"The original string is : \\n\", rstr, \"\\n\")\n",
    "  \n",
    "# Printing the right aligned string\n",
    "# with \"-\" padding \n",
    "print (\"The right aligned string is : \")\n",
    "print (rstr.rjust(40, '-'))"
   ]
  },
  {
   "cell_type": "markdown",
   "id": "3d89f8ea-e7ac-4de6-a56b-f0b88491a71b",
   "metadata": {},
   "source": [
    "# 10. What is the best way to remove whitespace characters from the start or end?"
   ]
  },
  {
   "cell_type": "code",
   "execution_count": null,
   "id": "803234e8-1395-4bd2-8587-db317873768e",
   "metadata": {},
   "outputs": [],
   "source": []
  }
 ],
 "metadata": {
  "kernelspec": {
   "display_name": "Python 3 (ipykernel)",
   "language": "python",
   "name": "python3"
  },
  "language_info": {
   "codemirror_mode": {
    "name": "ipython",
    "version": 3
   },
   "file_extension": ".py",
   "mimetype": "text/x-python",
   "name": "python",
   "nbconvert_exporter": "python",
   "pygments_lexer": "ipython3",
   "version": "3.10.6"
  }
 },
 "nbformat": 4,
 "nbformat_minor": 5
}

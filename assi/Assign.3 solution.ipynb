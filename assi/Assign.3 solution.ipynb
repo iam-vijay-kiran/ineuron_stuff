{
 "cells": [
  {
   "cell_type": "markdown",
   "id": "c3ba584f-7186-48f0-afb6-4f7971315ce9",
   "metadata": {},
   "source": [
    "# 1. Why are functions advantageous to have in your programs?\n",
    "\n",
    "It makes reuseability of code by just calling whole code using its function name\n"
   ]
  },
  {
   "cell_type": "markdown",
   "id": "382f9f02-f678-4208-b54e-94587e79e375",
   "metadata": {},
   "source": [
    "# 2. When does the code in a function run: when it's specified or when it's called?\n",
    "\n",
    "Function runs the code under it only when it is called"
   ]
  },
  {
   "cell_type": "markdown",
   "id": "ffce7433-4d7c-4fea-b918-f4bf3bf169b3",
   "metadata": {},
   "source": [
    "# 3. What statement creates a function?\n",
    "\n",
    "Def fun_name. Def creates the function following by function name given"
   ]
  },
  {
   "cell_type": "markdown",
   "id": "57015895-baef-42cb-9c0e-7d250a081cda",
   "metadata": {},
   "source": [
    "# 4. What is the difference between a function and a function call?\n",
    "\n",
    "Function is piece of code written by defining it using def fun_name and it is created\n",
    "\n",
    "Function call is calling the piece of code created as function here the actual code inside function runs"
   ]
  },
  {
   "cell_type": "markdown",
   "id": "9c47f995-d523-476e-bb12-048630c05d3d",
   "metadata": {},
   "source": [
    "# 5. How many global scopes are there in a Python program? How many local scopes?\n",
    "\n",
    "There's only one global Python scope per program execution. This scope remains in existence until the program terminates and all its names are forgotten. Otherwise, the next time you were to run the program, the names would remember their values from the previous run.\n",
    "\n",
    "At any given time during execution, you'll have at most four active Python scopes—local, enclosing, global, and built-in—depending on where you are in the code. On the other hand, you'll always have at least two active scopes, which are the global and built-in scopes.\n"
   ]
  },
  {
   "cell_type": "markdown",
   "id": "7bcd8796-abd2-4661-8656-5af9c3893c21",
   "metadata": {},
   "source": [
    "# 6. What happens to variables in a local scope when the function call returns?\n",
    "\n",
    "When the execution of the function terminates (returns), the local variables are destroyed."
   ]
  },
  {
   "cell_type": "markdown",
   "id": "dca2fab2-4060-4484-b956-e4a312847d29",
   "metadata": {},
   "source": [
    "# 7. What is the concept of a return value? Is it possible to have a return value in an expression?\n",
    "\n",
    "A return is a value that a function returns to the calling script or function when it completes its task. \n",
    "\n",
    "Yes.A Python function will always have a return value."
   ]
  },
  {
   "cell_type": "markdown",
   "id": "64d25bd9-c0b4-4deb-b286-d968821b0fda",
   "metadata": {},
   "source": [
    "# 8. If a function does not have a return statement, what is the return value of a call to that function?\n",
    "\n",
    "So, if you don't explicitly use a return value in a return statement, or if you totally omit the return statement, then Python will implicitly return a default value for you. That default return value will always be None "
   ]
  },
  {
   "cell_type": "markdown",
   "id": "806cd7b2-4ff6-40a3-a3b3-b5f6a5f0f409",
   "metadata": {},
   "source": [
    "# 9. How do you make a function variable refer to the global variable?\n",
    "\n",
    "The global Keyword\n",
    "Normally, when you create a variable inside a function, that variable is local, and can only be used inside that function. To create a global variable inside a function, you can use the global keyword."
   ]
  },
  {
   "cell_type": "markdown",
   "id": "f7c58383-9602-433e-b0c4-c67cf42914b8",
   "metadata": {},
   "source": [
    "# 10. What is the data type of None?\n",
    "\n",
    "None is a data type of its own (NoneType) and only None can be None."
   ]
  },
  {
   "cell_type": "markdown",
   "id": "6f064397-8302-4c91-8f7a-980af6f70661",
   "metadata": {},
   "source": [
    "# 11. What does the sentence import areallyourpetsnamederic do?\n",
    "\n",
    "That import statement imports a module named areallyourpetsnamederic. (This isn't a real Python module, by the way.)"
   ]
  },
  {
   "cell_type": "markdown",
   "id": "1b2082b7-0815-4b2f-af3d-205a255eb05c",
   "metadata": {},
   "source": [
    "# 12. If you had a bacon() feature in a spam module, what would you call it after importing spam?\n",
    "This function can be called with spam.bacon()."
   ]
  },
  {
   "cell_type": "markdown",
   "id": "18f6454f-a387-4290-91b7-8dc6574d85b6",
   "metadata": {},
   "source": [
    "# 13. What can you do to save a programme from crashing if it encounters an error?\n",
    "\n",
    "here we make the use of concept called exception handling by try,except,else,finally"
   ]
  },
  {
   "cell_type": "markdown",
   "id": "91742373-85db-44b9-95db-0d2a1a121a67",
   "metadata": {},
   "source": [
    "# 14.What is the purpose of the try clause? What is the purpose of the except clause?\n",
    "\n",
    "try clause tries to execute the code inside it as if it might cause error which makes exception\n",
    "\n",
    "except clause make the exception handling which is caused by the code in try clause"
   ]
  }
 ],
 "metadata": {
  "kernelspec": {
   "display_name": "Python 3 (ipykernel)",
   "language": "python",
   "name": "python3"
  },
  "language_info": {
   "codemirror_mode": {
    "name": "ipython",
    "version": 3
   },
   "file_extension": ".py",
   "mimetype": "text/x-python",
   "name": "python",
   "nbconvert_exporter": "python",
   "pygments_lexer": "ipython3",
   "version": "3.10.6"
  }
 },
 "nbformat": 4,
 "nbformat_minor": 5
}

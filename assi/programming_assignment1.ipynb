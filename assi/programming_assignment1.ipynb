{
 "cells": [
  {
   "cell_type": "markdown",
   "id": "308e4ca5-a061-411c-a3c2-da8e52f605da",
   "metadata": {},
   "source": [
    "1. Write a Python program to print 'Hello Python'?"
   ]
  },
  {
   "cell_type": "code",
   "execution_count": 1,
   "id": "28737dfd-e687-4964-96a9-2904b76a822c",
   "metadata": {},
   "outputs": [
    {
     "name": "stdout",
     "output_type": "stream",
     "text": [
      "Hello Python\n"
     ]
    }
   ],
   "source": [
    "print(\"Hello Python\")"
   ]
  },
  {
   "cell_type": "markdown",
   "id": "19c92b97-ac79-42bf-a13f-5ba60d7d0e3c",
   "metadata": {},
   "source": [
    "2. Write a Python program to do arithmetical operations addition and division.?"
   ]
  },
  {
   "cell_type": "code",
   "execution_count": 6,
   "id": "1d5fe090-9e22-416b-9bd1-e3f9ca258b30",
   "metadata": {},
   "outputs": [
    {
     "name": "stdout",
     "output_type": "stream",
     "text": [
      "5\n",
      "2.0\n"
     ]
    }
   ],
   "source": [
    "def addition(x,y):\n",
    "    return x + y\n",
    "def division(a,b):\n",
    "    return a/b\n",
    "a = addition(2,3)\n",
    "b = division(4,2)\n",
    "print(a)\n",
    "print(b)"
   ]
  },
  {
   "cell_type": "markdown",
   "id": "f1acd253-6c66-4695-8a8c-73962e595be2",
   "metadata": {},
   "source": [
    "3. Write a Python program to find the area of a triangle?"
   ]
  },
  {
   "cell_type": "code",
   "execution_count": 8,
   "id": "63898dd9-2933-40d8-a409-089f5493e775",
   "metadata": {},
   "outputs": [
    {
     "data": {
      "text/plain": [
       "6.0"
      ]
     },
     "execution_count": 8,
     "metadata": {},
     "output_type": "execute_result"
    }
   ],
   "source": [
    "def area_tri(a,b):\n",
    "    return (1/2)*a*b\n",
    "area_tri(3,4)"
   ]
  },
  {
   "cell_type": "markdown",
   "id": "d608aa1e-6e1a-45ca-8f63-2514b3c1b663",
   "metadata": {},
   "source": [
    "4. Write a Python program to swap two variables?"
   ]
  },
  {
   "cell_type": "code",
   "execution_count": 10,
   "id": "2be7a96c-0748-4717-899d-087e16fca7ce",
   "metadata": {},
   "outputs": [
    {
     "name": "stdout",
     "output_type": "stream",
     "text": [
      "after swapping value of x:2\n",
      "after swapping value of y:1\n"
     ]
    }
   ],
   "source": [
    "def swap_var(x,y):\n",
    "    x,y = y,x\n",
    "    print(f'after swapping value of x:{x}')\n",
    "    print(f'after swapping value of y:{y}')\n",
    "swap_var(1,2)"
   ]
  },
  {
   "cell_type": "markdown",
   "id": "7360fc04-7f46-4c4a-b9c9-d4560e671bc1",
   "metadata": {},
   "source": [
    "5. Write a Python program to generate a random number?"
   ]
  },
  {
   "cell_type": "code",
   "execution_count": 12,
   "id": "04cb3b39-e21a-4a98-861d-5529adc56ff5",
   "metadata": {},
   "outputs": [
    {
     "name": "stdout",
     "output_type": "stream",
     "text": [
      "3\n"
     ]
    }
   ],
   "source": [
    "import random\n",
    "print(random.randint(0,9))"
   ]
  },
  {
   "cell_type": "code",
   "execution_count": null,
   "id": "0493ed72-8340-438d-9c1b-4399c5eb2fca",
   "metadata": {},
   "outputs": [],
   "source": []
  }
 ],
 "metadata": {
  "kernelspec": {
   "display_name": "Python 3 (ipykernel)",
   "language": "python",
   "name": "python3"
  },
  "language_info": {
   "codemirror_mode": {
    "name": "ipython",
    "version": 3
   },
   "file_extension": ".py",
   "mimetype": "text/x-python",
   "name": "python",
   "nbconvert_exporter": "python",
   "pygments_lexer": "ipython3",
   "version": "3.10.6"
  }
 },
 "nbformat": 4,
 "nbformat_minor": 5
}

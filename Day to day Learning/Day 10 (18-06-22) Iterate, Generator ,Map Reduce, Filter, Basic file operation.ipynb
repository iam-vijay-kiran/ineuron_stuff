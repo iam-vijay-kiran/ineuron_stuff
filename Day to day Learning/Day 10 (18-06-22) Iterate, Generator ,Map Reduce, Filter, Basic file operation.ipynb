{
 "cells": [
  {
   "cell_type": "markdown",
   "id": "88a617d3",
   "metadata": {},
   "source": [
    "## ITERABLE and Iterator"
   ]
  },
  {
   "cell_type": "code",
   "execution_count": null,
   "id": "7ddde406",
   "metadata": {},
   "outputs": [],
   "source": [
    "l = [1,3,4,5,5]"
   ]
  },
  {
   "cell_type": "code",
   "execution_count": 2,
   "id": "64d06e07",
   "metadata": {},
   "outputs": [
    {
     "data": {
      "text/plain": [
       "[1, 3, 4, 5, 5]"
      ]
     },
     "execution_count": 2,
     "metadata": {},
     "output_type": "execute_result"
    }
   ],
   "source": [
    "l"
   ]
  },
  {
   "cell_type": "code",
   "execution_count": 3,
   "id": "e83f3092",
   "metadata": {},
   "outputs": [
    {
     "name": "stdout",
     "output_type": "stream",
     "text": [
      "1\n",
      "3\n",
      "4\n",
      "5\n",
      "5\n"
     ]
    }
   ],
   "source": [
    "for i in l:\n",
    "    print(i)"
   ]
  },
  {
   "cell_type": "code",
   "execution_count": 4,
   "id": "04483a72",
   "metadata": {},
   "outputs": [],
   "source": [
    "s = \"sudh\""
   ]
  },
  {
   "cell_type": "code",
   "execution_count": 5,
   "id": "c76066ed",
   "metadata": {},
   "outputs": [
    {
     "ename": "TypeError",
     "evalue": "'str' object is not an iterator",
     "output_type": "error",
     "traceback": [
      "\u001b[1;31m---------------------------------------------------------------------------\u001b[0m",
      "\u001b[1;31mTypeError\u001b[0m                                 Traceback (most recent call last)",
      "\u001b[1;32m~\\AppData\\Local\\Temp/ipykernel_400/1977886155.py\u001b[0m in \u001b[0;36m<module>\u001b[1;34m\u001b[0m\n\u001b[1;32m----> 1\u001b[1;33m \u001b[0mnext\u001b[0m\u001b[1;33m(\u001b[0m\u001b[0ms\u001b[0m\u001b[1;33m)\u001b[0m\u001b[1;33m\u001b[0m\u001b[1;33m\u001b[0m\u001b[0m\n\u001b[0m",
      "\u001b[1;31mTypeError\u001b[0m: 'str' object is not an iterator"
     ]
    }
   ],
   "source": [
    "next(s)"
   ]
  },
  {
   "cell_type": "code",
   "execution_count": 6,
   "id": "ce7010f4",
   "metadata": {},
   "outputs": [],
   "source": [
    "s = iter(s)"
   ]
  },
  {
   "cell_type": "code",
   "execution_count": 7,
   "id": "f98bc376",
   "metadata": {},
   "outputs": [
    {
     "data": {
      "text/plain": [
       "'s'"
      ]
     },
     "execution_count": 7,
     "metadata": {},
     "output_type": "execute_result"
    }
   ],
   "source": [
    "next(s)"
   ]
  },
  {
   "cell_type": "code",
   "execution_count": 8,
   "id": "61dc10ab",
   "metadata": {},
   "outputs": [
    {
     "data": {
      "text/plain": [
       "'u'"
      ]
     },
     "execution_count": 8,
     "metadata": {},
     "output_type": "execute_result"
    }
   ],
   "source": [
    "next(s)"
   ]
  },
  {
   "cell_type": "code",
   "execution_count": 9,
   "id": "fb012420",
   "metadata": {},
   "outputs": [
    {
     "data": {
      "text/plain": [
       "'d'"
      ]
     },
     "execution_count": 9,
     "metadata": {},
     "output_type": "execute_result"
    }
   ],
   "source": [
    "next(s)"
   ]
  },
  {
   "cell_type": "code",
   "execution_count": 10,
   "id": "9f57ef92",
   "metadata": {},
   "outputs": [
    {
     "data": {
      "text/plain": [
       "'h'"
      ]
     },
     "execution_count": 10,
     "metadata": {},
     "output_type": "execute_result"
    }
   ],
   "source": [
    "next(s)"
   ]
  },
  {
   "cell_type": "code",
   "execution_count": 11,
   "id": "92c9fcc3",
   "metadata": {},
   "outputs": [
    {
     "ename": "StopIteration",
     "evalue": "",
     "output_type": "error",
     "traceback": [
      "\u001b[1;31m---------------------------------------------------------------------------\u001b[0m",
      "\u001b[1;31mStopIteration\u001b[0m                             Traceback (most recent call last)",
      "\u001b[1;32m~\\AppData\\Local\\Temp/ipykernel_400/1977886155.py\u001b[0m in \u001b[0;36m<module>\u001b[1;34m\u001b[0m\n\u001b[1;32m----> 1\u001b[1;33m \u001b[0mnext\u001b[0m\u001b[1;33m(\u001b[0m\u001b[0ms\u001b[0m\u001b[1;33m)\u001b[0m\u001b[1;33m\u001b[0m\u001b[1;33m\u001b[0m\u001b[0m\n\u001b[0m",
      "\u001b[1;31mStopIteration\u001b[0m: "
     ]
    }
   ],
   "source": [
    "next(s)"
   ]
  },
  {
   "cell_type": "code",
   "execution_count": 12,
   "id": "108bc669",
   "metadata": {},
   "outputs": [
    {
     "name": "stdout",
     "output_type": "stream",
     "text": [
      "s\n",
      "u\n",
      "d\n",
      "h\n"
     ]
    }
   ],
   "source": [
    "s = \"sudh\"\n",
    "for i in s:\n",
    "    print(i)"
   ]
  },
  {
   "cell_type": "code",
   "execution_count": 13,
   "id": "902d1ac3",
   "metadata": {},
   "outputs": [],
   "source": [
    "t = (5,6,7,8,8)"
   ]
  },
  {
   "cell_type": "code",
   "execution_count": 14,
   "id": "25db075c",
   "metadata": {},
   "outputs": [
    {
     "ename": "TypeError",
     "evalue": "'tuple' object is not an iterator",
     "output_type": "error",
     "traceback": [
      "\u001b[1;31m---------------------------------------------------------------------------\u001b[0m",
      "\u001b[1;31mTypeError\u001b[0m                                 Traceback (most recent call last)",
      "\u001b[1;32m~\\AppData\\Local\\Temp/ipykernel_400/2139502855.py\u001b[0m in \u001b[0;36m<module>\u001b[1;34m\u001b[0m\n\u001b[1;32m----> 1\u001b[1;33m \u001b[0mnext\u001b[0m\u001b[1;33m(\u001b[0m\u001b[0mt\u001b[0m\u001b[1;33m)\u001b[0m\u001b[1;33m\u001b[0m\u001b[1;33m\u001b[0m\u001b[0m\n\u001b[0m",
      "\u001b[1;31mTypeError\u001b[0m: 'tuple' object is not an iterator"
     ]
    }
   ],
   "source": [
    "next(t)"
   ]
  },
  {
   "cell_type": "code",
   "execution_count": 15,
   "id": "78674597",
   "metadata": {},
   "outputs": [],
   "source": [
    "t = iter(t)"
   ]
  },
  {
   "cell_type": "code",
   "execution_count": 16,
   "id": "835d1b54",
   "metadata": {},
   "outputs": [
    {
     "data": {
      "text/plain": [
       "5"
      ]
     },
     "execution_count": 16,
     "metadata": {},
     "output_type": "execute_result"
    }
   ],
   "source": [
    "next(t)"
   ]
  },
  {
   "cell_type": "code",
   "execution_count": 17,
   "id": "ff5422bc",
   "metadata": {},
   "outputs": [
    {
     "data": {
      "text/plain": [
       "6"
      ]
     },
     "execution_count": 17,
     "metadata": {},
     "output_type": "execute_result"
    }
   ],
   "source": [
    "next(t)"
   ]
  },
  {
   "cell_type": "code",
   "execution_count": 18,
   "id": "3f819a7f",
   "metadata": {},
   "outputs": [
    {
     "data": {
      "text/plain": [
       "7"
      ]
     },
     "execution_count": 18,
     "metadata": {},
     "output_type": "execute_result"
    }
   ],
   "source": [
    "next(t)\n"
   ]
  },
  {
   "cell_type": "code",
   "execution_count": 19,
   "id": "a8f01f8d",
   "metadata": {},
   "outputs": [
    {
     "data": {
      "text/plain": [
       "8"
      ]
     },
     "execution_count": 19,
     "metadata": {},
     "output_type": "execute_result"
    }
   ],
   "source": [
    "next(t)"
   ]
  },
  {
   "cell_type": "code",
   "execution_count": 20,
   "id": "c2a623bb",
   "metadata": {},
   "outputs": [
    {
     "data": {
      "text/plain": [
       "8"
      ]
     },
     "execution_count": 20,
     "metadata": {},
     "output_type": "execute_result"
    }
   ],
   "source": [
    "next(t)"
   ]
  },
  {
   "cell_type": "code",
   "execution_count": 21,
   "id": "f48e5fea",
   "metadata": {},
   "outputs": [
    {
     "ename": "StopIteration",
     "evalue": "",
     "output_type": "error",
     "traceback": [
      "\u001b[1;31m---------------------------------------------------------------------------\u001b[0m",
      "\u001b[1;31mStopIteration\u001b[0m                             Traceback (most recent call last)",
      "\u001b[1;32m~\\AppData\\Local\\Temp/ipykernel_400/1295281444.py\u001b[0m in \u001b[0;36m<module>\u001b[1;34m\u001b[0m\n\u001b[1;32m----> 1\u001b[1;33m \u001b[0mnext\u001b[0m\u001b[1;33m(\u001b[0m\u001b[0mt\u001b[0m\u001b[1;33m)\u001b[0m\u001b[1;33m\u001b[0m\u001b[1;33m\u001b[0m\u001b[0m\n\u001b[0m",
      "\u001b[1;31mStopIteration\u001b[0m: "
     ]
    }
   ],
   "source": [
    "next(t)\n"
   ]
  },
  {
   "cell_type": "code",
   "execution_count": 22,
   "id": "673e76aa",
   "metadata": {},
   "outputs": [
    {
     "ename": "StopIteration",
     "evalue": "",
     "output_type": "error",
     "traceback": [
      "\u001b[1;31m---------------------------------------------------------------------------\u001b[0m",
      "\u001b[1;31mStopIteration\u001b[0m                             Traceback (most recent call last)",
      "\u001b[1;32m~\\AppData\\Local\\Temp/ipykernel_400/2139502855.py\u001b[0m in \u001b[0;36m<module>\u001b[1;34m\u001b[0m\n\u001b[1;32m----> 1\u001b[1;33m \u001b[0mnext\u001b[0m\u001b[1;33m(\u001b[0m\u001b[0mt\u001b[0m\u001b[1;33m)\u001b[0m\u001b[1;33m\u001b[0m\u001b[1;33m\u001b[0m\u001b[0m\n\u001b[0m",
      "\u001b[1;31mStopIteration\u001b[0m: "
     ]
    }
   ],
   "source": [
    "next(t)"
   ]
  },
  {
   "cell_type": "code",
   "execution_count": 24,
   "id": "80702916",
   "metadata": {},
   "outputs": [
    {
     "data": {
      "text/plain": [
       "[1, 2, 3, 4, 5, 6, 7, 8, 9]"
      ]
     },
     "execution_count": 24,
     "metadata": {},
     "output_type": "execute_result"
    }
   ],
   "source": [
    "list(range(1,10))"
   ]
  },
  {
   "cell_type": "code",
   "execution_count": 27,
   "id": "02a8c899",
   "metadata": {},
   "outputs": [],
   "source": [
    "def square_fun(n):\n",
    "    x = [i*i for i in range(n+1)]\n",
    "    return x"
   ]
  },
  {
   "cell_type": "code",
   "execution_count": 28,
   "id": "4a843b12",
   "metadata": {},
   "outputs": [
    {
     "data": {
      "text/plain": [
       "[0, 1, 4, 9, 16]"
      ]
     },
     "execution_count": 28,
     "metadata": {},
     "output_type": "execute_result"
    }
   ],
   "source": [
    "square_fun(4)"
   ]
  },
  {
   "cell_type": "code",
   "execution_count": 29,
   "id": "81ed71f6",
   "metadata": {},
   "outputs": [
    {
     "data": {
      "text/plain": [
       "[0, 1, 2, 3]"
      ]
     },
     "execution_count": 29,
     "metadata": {},
     "output_type": "execute_result"
    }
   ],
   "source": [
    "list(range(4))"
   ]
  },
  {
   "cell_type": "code",
   "execution_count": 5,
   "id": "24ae1611",
   "metadata": {},
   "outputs": [],
   "source": [
    "def square_fun1(n):\n",
    "    x = [i*i for i in range(n+1)]       # yield is the function used for generator\n",
    "    yield x"
   ]
  },
  {
   "cell_type": "code",
   "execution_count": 6,
   "id": "e99ffb45",
   "metadata": {},
   "outputs": [
    {
     "data": {
      "text/plain": [
       "<generator object square_fun1 at 0x00000180270646D0>"
      ]
     },
     "execution_count": 6,
     "metadata": {},
     "output_type": "execute_result"
    }
   ],
   "source": [
    "square_fun1(3)"
   ]
  },
  {
   "cell_type": "code",
   "execution_count": 7,
   "id": "3a343532",
   "metadata": {},
   "outputs": [
    {
     "data": {
      "text/plain": [
       "range(0, 5)"
      ]
     },
     "execution_count": 7,
     "metadata": {},
     "output_type": "execute_result"
    }
   ],
   "source": [
    "range(5)"
   ]
  },
  {
   "cell_type": "code",
   "execution_count": 8,
   "id": "3d898a87",
   "metadata": {},
   "outputs": [
    {
     "name": "stdout",
     "output_type": "stream",
     "text": [
      "[0, 1, 4, 9, 16]\n"
     ]
    }
   ],
   "source": [
    "for i in square_fun1(4):\n",
    "    print(i)"
   ]
  },
  {
   "cell_type": "code",
   "execution_count": 9,
   "id": "995c9ba3",
   "metadata": {},
   "outputs": [
    {
     "name": "stdout",
     "output_type": "stream",
     "text": [
      "0\n",
      "1\n",
      "2\n",
      "3\n"
     ]
    }
   ],
   "source": [
    "for i in range(4):\n",
    "    print(i)"
   ]
  },
  {
   "cell_type": "code",
   "execution_count": 10,
   "id": "ab0c5e84",
   "metadata": {},
   "outputs": [
    {
     "data": {
      "text/plain": [
       "[0, 1, 4, 9, 16]"
      ]
     },
     "execution_count": 10,
     "metadata": {},
     "output_type": "execute_result"
    }
   ],
   "source": [
    "next(square_fun1(4))"
   ]
  },
  {
   "cell_type": "code",
   "execution_count": 11,
   "id": "661aa5c9",
   "metadata": {},
   "outputs": [
    {
     "ename": "TypeError",
     "evalue": "'range' object is not an iterator",
     "output_type": "error",
     "traceback": [
      "\u001b[1;31m---------------------------------------------------------------------------\u001b[0m",
      "\u001b[1;31mTypeError\u001b[0m                                 Traceback (most recent call last)",
      "\u001b[1;32m~\\AppData\\Local\\Temp/ipykernel_5440/2900367581.py\u001b[0m in \u001b[0;36m<module>\u001b[1;34m\u001b[0m\n\u001b[1;32m----> 1\u001b[1;33m \u001b[0mnext\u001b[0m\u001b[1;33m(\u001b[0m\u001b[0mrange\u001b[0m\u001b[1;33m(\u001b[0m\u001b[1;36m4\u001b[0m\u001b[1;33m)\u001b[0m\u001b[1;33m)\u001b[0m\u001b[1;33m\u001b[0m\u001b[1;33m\u001b[0m\u001b[0m\n\u001b[0m",
      "\u001b[1;31mTypeError\u001b[0m: 'range' object is not an iterator"
     ]
    }
   ],
   "source": [
    "next(range(4))"
   ]
  },
  {
   "cell_type": "code",
   "execution_count": 12,
   "id": "feb8026e",
   "metadata": {},
   "outputs": [],
   "source": [
    "r = iter(range(4))"
   ]
  },
  {
   "cell_type": "code",
   "execution_count": 13,
   "id": "1572f622",
   "metadata": {},
   "outputs": [
    {
     "data": {
      "text/plain": [
       "0"
      ]
     },
     "execution_count": 13,
     "metadata": {},
     "output_type": "execute_result"
    }
   ],
   "source": [
    "next(r)"
   ]
  },
  {
   "cell_type": "code",
   "execution_count": 14,
   "id": "39202fb4",
   "metadata": {},
   "outputs": [
    {
     "data": {
      "text/plain": [
       "1"
      ]
     },
     "execution_count": 14,
     "metadata": {},
     "output_type": "execute_result"
    }
   ],
   "source": [
    "next(r)"
   ]
  },
  {
   "cell_type": "code",
   "execution_count": 15,
   "id": "8758c7ea",
   "metadata": {},
   "outputs": [
    {
     "data": {
      "text/plain": [
       "2"
      ]
     },
     "execution_count": 15,
     "metadata": {},
     "output_type": "execute_result"
    }
   ],
   "source": [
    "next(r)\n"
   ]
  },
  {
   "cell_type": "code",
   "execution_count": 16,
   "id": "5d5f16ba",
   "metadata": {},
   "outputs": [
    {
     "data": {
      "text/plain": [
       "3"
      ]
     },
     "execution_count": 16,
     "metadata": {},
     "output_type": "execute_result"
    }
   ],
   "source": [
    "next(r)"
   ]
  },
  {
   "cell_type": "code",
   "execution_count": 17,
   "id": "14686274",
   "metadata": {},
   "outputs": [
    {
     "ename": "StopIteration",
     "evalue": "",
     "output_type": "error",
     "traceback": [
      "\u001b[1;31m---------------------------------------------------------------------------\u001b[0m",
      "\u001b[1;31mStopIteration\u001b[0m                             Traceback (most recent call last)",
      "\u001b[1;32m~\\AppData\\Local\\Temp/ipykernel_5440/4134984757.py\u001b[0m in \u001b[0;36m<module>\u001b[1;34m\u001b[0m\n\u001b[1;32m----> 1\u001b[1;33m \u001b[0mnext\u001b[0m\u001b[1;33m(\u001b[0m\u001b[0mr\u001b[0m\u001b[1;33m)\u001b[0m\u001b[1;33m\u001b[0m\u001b[1;33m\u001b[0m\u001b[0m\n\u001b[0m",
      "\u001b[1;31mStopIteration\u001b[0m: "
     ]
    }
   ],
   "source": [
    "next(r)"
   ]
  },
  {
   "cell_type": "markdown",
   "id": "4ab86915",
   "metadata": {},
   "source": [
    "## Generators"
   ]
  },
  {
   "cell_type": "code",
   "execution_count": 22,
   "id": "81fb4993",
   "metadata": {},
   "outputs": [],
   "source": [
    "def genfib(n):\n",
    "    a = 1\n",
    "    b = 1\n",
    "    l = []\n",
    "    for i in range(n):\n",
    "        l.append(a)\n",
    "        a,b = b , a+b\n",
    "    return l"
   ]
  },
  {
   "cell_type": "code",
   "execution_count": 23,
   "id": "81f0f9d4",
   "metadata": {},
   "outputs": [
    {
     "data": {
      "text/plain": [
       "[1, 1, 2, 3, 5, 8, 13, 21, 34, 55]"
      ]
     },
     "execution_count": 23,
     "metadata": {},
     "output_type": "execute_result"
    }
   ],
   "source": [
    "genfib(10)"
   ]
  },
  {
   "cell_type": "code",
   "execution_count": 24,
   "id": "5be1e14c",
   "metadata": {},
   "outputs": [],
   "source": [
    "def genfib1(n):\n",
    "    a = 1\n",
    "    b = 1\n",
    "    for i in range(n):\n",
    "        yield(a)\n",
    "        a,b = b , a+b\n"
   ]
  },
  {
   "cell_type": "code",
   "execution_count": 25,
   "id": "7045ceb9",
   "metadata": {},
   "outputs": [
    {
     "data": {
      "text/plain": [
       "<generator object genfib1 at 0x00000180270837B0>"
      ]
     },
     "execution_count": 25,
     "metadata": {},
     "output_type": "execute_result"
    }
   ],
   "source": [
    "genfib1(10)"
   ]
  },
  {
   "cell_type": "code",
   "execution_count": 26,
   "id": "d6f48c46",
   "metadata": {},
   "outputs": [
    {
     "name": "stdout",
     "output_type": "stream",
     "text": [
      "1\n",
      "1\n",
      "2\n",
      "3\n",
      "5\n",
      "8\n",
      "13\n",
      "21\n",
      "34\n",
      "55\n"
     ]
    }
   ],
   "source": [
    "for i in genfib1(10):\n",
    "    print(i)"
   ]
  },
  {
   "cell_type": "markdown",
   "id": "5d7f970c",
   "metadata": {},
   "source": [
    "## File operation"
   ]
  },
  {
   "cell_type": "code",
   "execution_count": 2,
   "id": "5f734000",
   "metadata": {},
   "outputs": [
    {
     "ename": "FileNotFoundError",
     "evalue": "[Errno 2] No such file or directory: 'hackthon.txt'",
     "output_type": "error",
     "traceback": [
      "\u001b[1;31m---------------------------------------------------------------------------\u001b[0m",
      "\u001b[1;31mFileNotFoundError\u001b[0m                         Traceback (most recent call last)",
      "\u001b[1;32m~\\AppData\\Local\\Temp/ipykernel_10656/4166523604.py\u001b[0m in \u001b[0;36m<module>\u001b[1;34m\u001b[0m\n\u001b[1;32m----> 1\u001b[1;33m \u001b[0mf\u001b[0m \u001b[1;33m=\u001b[0m \u001b[0mopen\u001b[0m\u001b[1;33m(\u001b[0m\u001b[1;34m\"hackthon.txt\"\u001b[0m\u001b[1;33m)\u001b[0m\u001b[1;33m\u001b[0m\u001b[1;33m\u001b[0m\u001b[0m\n\u001b[0m",
      "\u001b[1;31mFileNotFoundError\u001b[0m: [Errno 2] No such file or directory: 'hackthon.txt'"
     ]
    }
   ],
   "source": [
    "f = open(\"hackthon.txt\")"
   ]
  },
  {
   "cell_type": "code",
   "execution_count": 3,
   "id": "7aea2f07",
   "metadata": {},
   "outputs": [
    {
     "name": "stdout",
     "output_type": "stream",
     "text": [
      " Volume in drive C has no label.\n",
      " Volume Serial Number is C02B-B179\n",
      "\n",
      " Directory of C:\\Users\\sunny\\Desktop\\practise sessions\\live practise\n",
      "\n",
      "03-10-2022  11:54    <DIR>          .\n",
      "03-10-2022  11:54    <DIR>          ..\n",
      "02-10-2022  17:01    <DIR>          .ipynb_checkpoints\n",
      "29-05-2022  17:56           220,911 28-05-22 while loop and basic of function.ipynb\n",
      "15-05-2022  13:26             6,719 Day 1 ( 14-05-2022 ) variable in python intro.ipynb\n",
      "03-10-2022  11:54            26,356 Day 10 (18-06-22) Iterate, Generator ,Map Reduce, Filter, Basic file operation.ipynb\n",
      "15-05-2022  18:21            28,048 Day 2 ( 15-05-22) Python string basic.ipynb\n",
      "22-05-2022  14:11            57,153 Day 3 ( 21-05-22 ) list,tuple,dic,set.ipynb\n",
      "28-05-2022  13:22            12,473 Day 4 ( 22-05-22 ) If, Elsif , Else.ipynb\n",
      "29-05-2022  11:18            16,887 Day 5 ( 28-05-22 ) For Loop.ipynb\n",
      "04-06-2022  17:44            33,645 Day 6 ( 29-05-22 )while loop and basic of function.ipynb\n",
      "04-06-2022  15:08               588 Day 7 ( 4-06-22 ) Revision class.ipynb\n",
      "26-06-2022  18:24            37,100 Day 8 ( 5-06-22 ) Function , lambda.ipynb\n",
      "02-10-2022  17:01           242,197 Day 9 (12-06-22) Exception_handling_revision_class.ipynb\n",
      "20-07-2022  18:44            52,099 Day 9_2(12-06-22).ipynb\n",
      "25-09-2022  11:48            18,540 Day Pandas Basics.ipynb\n",
      "24-07-2022  12:32                36 sudh1.txt\n",
      "24-07-2022  12:58                59 test1.txt\n",
      "              15 File(s)        752,811 bytes\n",
      "               3 Dir(s)  164,640,817,152 bytes free\n"
     ]
    }
   ],
   "source": [
    "ls\n"
   ]
  },
  {
   "cell_type": "code",
   "execution_count": null,
   "id": "36091bc1",
   "metadata": {},
   "outputs": [],
   "source": [
    "# mode of operation \n",
    "# w == write, \n",
    "# r == read, w+ == writing and reading operation, r+ == reading and writing operation , a == append\n",
    "\n",
    "##    w+ == checks availability of file and if no exist creates and writes the file  \n",
    "\n",
    "##    r+ == just read & write file only if file exists   "
   ]
  },
  {
   "cell_type": "code",
   "execution_count": 4,
   "id": "542ed91f",
   "metadata": {},
   "outputs": [],
   "source": [
    "f = open(\"sudh1.txt\",'w')  "
   ]
  },
  {
   "cell_type": "code",
   "execution_count": 5,
   "id": "6003e195",
   "metadata": {},
   "outputs": [
    {
     "name": "stdout",
     "output_type": "stream",
     "text": [
      " Volume in drive C has no label.\n",
      " Volume Serial Number is C02B-B179\n",
      "\n",
      " Directory of C:\\Users\\sunny\\Desktop\\practise sessions\\live practise\n",
      "\n",
      "03-10-2022  11:54    <DIR>          .\n",
      "03-10-2022  11:54    <DIR>          ..\n",
      "02-10-2022  17:01    <DIR>          .ipynb_checkpoints\n",
      "29-05-2022  17:56           220,911 28-05-22 while loop and basic of function.ipynb\n",
      "15-05-2022  13:26             6,719 Day 1 ( 14-05-2022 ) variable in python intro.ipynb\n",
      "03-10-2022  11:54            26,356 Day 10 (18-06-22) Iterate, Generator ,Map Reduce, Filter, Basic file operation.ipynb\n",
      "15-05-2022  18:21            28,048 Day 2 ( 15-05-22) Python string basic.ipynb\n",
      "22-05-2022  14:11            57,153 Day 3 ( 21-05-22 ) list,tuple,dic,set.ipynb\n",
      "28-05-2022  13:22            12,473 Day 4 ( 22-05-22 ) If, Elsif , Else.ipynb\n",
      "29-05-2022  11:18            16,887 Day 5 ( 28-05-22 ) For Loop.ipynb\n",
      "04-06-2022  17:44            33,645 Day 6 ( 29-05-22 )while loop and basic of function.ipynb\n",
      "04-06-2022  15:08               588 Day 7 ( 4-06-22 ) Revision class.ipynb\n",
      "26-06-2022  18:24            37,100 Day 8 ( 5-06-22 ) Function , lambda.ipynb\n",
      "02-10-2022  17:01           242,197 Day 9 (12-06-22) Exception_handling_revision_class.ipynb\n",
      "20-07-2022  18:44            52,099 Day 9_2(12-06-22).ipynb\n",
      "25-09-2022  11:48            18,540 Day Pandas Basics.ipynb\n",
      "03-10-2022  11:55                 0 sudh1.txt\n",
      "24-07-2022  12:58                59 test1.txt\n",
      "              15 File(s)        752,775 bytes\n",
      "               3 Dir(s)  164,640,817,152 bytes free\n"
     ]
    }
   ],
   "source": [
    "ls"
   ]
  },
  {
   "cell_type": "code",
   "execution_count": 6,
   "id": "0c53959e",
   "metadata": {},
   "outputs": [
    {
     "data": {
      "text/plain": [
       "36"
      ]
     },
     "execution_count": 6,
     "metadata": {},
     "output_type": "execute_result"
    }
   ],
   "source": [
    "f.write(\"this is my very first file operation\")"
   ]
  },
  {
   "cell_type": "code",
   "execution_count": 7,
   "id": "aa500927",
   "metadata": {},
   "outputs": [],
   "source": [
    "f.close()"
   ]
  },
  {
   "cell_type": "code",
   "execution_count": 8,
   "id": "8121a5ce",
   "metadata": {
    "scrolled": true
   },
   "outputs": [
    {
     "name": "stdout",
     "output_type": "stream",
     "text": [
      " Volume in drive C has no label.\n",
      " Volume Serial Number is C02B-B179\n",
      "\n",
      " Directory of C:\\Users\\sunny\\Desktop\\practise sessions\\live practise\n",
      "\n",
      "03-10-2022  11:54    <DIR>          .\n",
      "03-10-2022  11:54    <DIR>          ..\n",
      "02-10-2022  17:01    <DIR>          .ipynb_checkpoints\n",
      "29-05-2022  17:56           220,911 28-05-22 while loop and basic of function.ipynb\n",
      "15-05-2022  13:26             6,719 Day 1 ( 14-05-2022 ) variable in python intro.ipynb\n",
      "03-10-2022  11:54            26,356 Day 10 (18-06-22) Iterate, Generator ,Map Reduce, Filter, Basic file operation.ipynb\n",
      "15-05-2022  18:21            28,048 Day 2 ( 15-05-22) Python string basic.ipynb\n",
      "22-05-2022  14:11            57,153 Day 3 ( 21-05-22 ) list,tuple,dic,set.ipynb\n",
      "28-05-2022  13:22            12,473 Day 4 ( 22-05-22 ) If, Elsif , Else.ipynb\n",
      "29-05-2022  11:18            16,887 Day 5 ( 28-05-22 ) For Loop.ipynb\n",
      "04-06-2022  17:44            33,645 Day 6 ( 29-05-22 )while loop and basic of function.ipynb\n",
      "04-06-2022  15:08               588 Day 7 ( 4-06-22 ) Revision class.ipynb\n",
      "26-06-2022  18:24            37,100 Day 8 ( 5-06-22 ) Function , lambda.ipynb\n",
      "02-10-2022  17:01           242,197 Day 9 (12-06-22) Exception_handling_revision_class.ipynb\n",
      "20-07-2022  18:44            52,099 Day 9_2(12-06-22).ipynb\n",
      "25-09-2022  11:48            18,540 Day Pandas Basics.ipynb\n",
      "03-10-2022  11:55                36 sudh1.txt\n",
      "24-07-2022  12:58                59 test1.txt\n",
      "              15 File(s)        752,811 bytes\n",
      "               3 Dir(s)  164,640,800,768 bytes free\n"
     ]
    }
   ],
   "source": [
    "ls\n"
   ]
  },
  {
   "cell_type": "code",
   "execution_count": 9,
   "id": "0d4ef607",
   "metadata": {},
   "outputs": [],
   "source": [
    "f1 = open(\"test1.txt\",\"w\")"
   ]
  },
  {
   "cell_type": "code",
   "execution_count": 10,
   "id": "8e89b33d",
   "metadata": {},
   "outputs": [
    {
     "data": {
      "text/plain": [
       "59"
      ]
     },
     "execution_count": 10,
     "metadata": {},
     "output_type": "execute_result"
    }
   ],
   "source": [
    "f1.write(\"this is a file operation i am trying to do in my fsds class\")"
   ]
  },
  {
   "cell_type": "code",
   "execution_count": 11,
   "id": "9e493b1a",
   "metadata": {},
   "outputs": [],
   "source": [
    "f1.close()"
   ]
  },
  {
   "cell_type": "code",
   "execution_count": 13,
   "id": "a7ef4427",
   "metadata": {},
   "outputs": [
    {
     "name": "stdout",
     "output_type": "stream",
     "text": [
      " Volume in drive C has no label.\n",
      " Volume Serial Number is C02B-B179\n",
      "\n",
      " Directory of C:\\Users\\sunny\\Desktop\\practise sessions\\live practise\n",
      "\n",
      "03-10-2022  11:54    <DIR>          .\n",
      "03-10-2022  11:54    <DIR>          ..\n",
      "02-10-2022  17:01    <DIR>          .ipynb_checkpoints\n",
      "29-05-2022  17:56           220,911 28-05-22 while loop and basic of function.ipynb\n",
      "15-05-2022  13:26             6,719 Day 1 ( 14-05-2022 ) variable in python intro.ipynb\n",
      "03-10-2022  11:54            26,356 Day 10 (18-06-22) Iterate, Generator ,Map Reduce, Filter, Basic file operation.ipynb\n",
      "15-05-2022  18:21            28,048 Day 2 ( 15-05-22) Python string basic.ipynb\n",
      "22-05-2022  14:11            57,153 Day 3 ( 21-05-22 ) list,tuple,dic,set.ipynb\n",
      "28-05-2022  13:22            12,473 Day 4 ( 22-05-22 ) If, Elsif , Else.ipynb\n",
      "29-05-2022  11:18            16,887 Day 5 ( 28-05-22 ) For Loop.ipynb\n",
      "04-06-2022  17:44            33,645 Day 6 ( 29-05-22 )while loop and basic of function.ipynb\n",
      "04-06-2022  15:08               588 Day 7 ( 4-06-22 ) Revision class.ipynb\n",
      "26-06-2022  18:24            37,100 Day 8 ( 5-06-22 ) Function , lambda.ipynb\n",
      "02-10-2022  17:01           242,197 Day 9 (12-06-22) Exception_handling_revision_class.ipynb\n",
      "20-07-2022  18:44            52,099 Day 9_2(12-06-22).ipynb\n",
      "25-09-2022  11:48            18,540 Day Pandas Basics.ipynb\n",
      "03-10-2022  11:55                36 sudh1.txt\n",
      "03-10-2022  11:55                59 test1.txt\n",
      "              15 File(s)        752,811 bytes\n",
      "               3 Dir(s)  164,640,796,672 bytes free\n"
     ]
    }
   ],
   "source": [
    "ls"
   ]
  },
  {
   "cell_type": "code",
   "execution_count": 14,
   "id": "47f7a88d",
   "metadata": {},
   "outputs": [],
   "source": [
    "f1 = open(\"test1.txt\",\"w\")"
   ]
  },
  {
   "cell_type": "code",
   "execution_count": 15,
   "id": "9720e166",
   "metadata": {},
   "outputs": [],
   "source": [
    "f1.close()"
   ]
  },
  {
   "cell_type": "code",
   "execution_count": 16,
   "id": "a7bb20f1",
   "metadata": {},
   "outputs": [],
   "source": [
    "l = [1,2,3,4,6,23,2,3,5,2]"
   ]
  },
  {
   "cell_type": "code",
   "execution_count": 17,
   "id": "efeb8a21",
   "metadata": {},
   "outputs": [],
   "source": [
    "f2 = open(\"test2.txt\",\"w\")"
   ]
  },
  {
   "cell_type": "code",
   "execution_count": 18,
   "id": "beb4afbe",
   "metadata": {},
   "outputs": [
    {
     "ename": "TypeError",
     "evalue": "write() argument must be str, not list",
     "output_type": "error",
     "traceback": [
      "\u001b[1;31m---------------------------------------------------------------------------\u001b[0m",
      "\u001b[1;31mTypeError\u001b[0m                                 Traceback (most recent call last)",
      "\u001b[1;32m~\\AppData\\Local\\Temp/ipykernel_10656/2847691079.py\u001b[0m in \u001b[0;36m<module>\u001b[1;34m\u001b[0m\n\u001b[1;32m----> 1\u001b[1;33m \u001b[0mf2\u001b[0m\u001b[1;33m.\u001b[0m\u001b[0mwrite\u001b[0m\u001b[1;33m(\u001b[0m\u001b[0ml\u001b[0m\u001b[1;33m)\u001b[0m\u001b[1;33m\u001b[0m\u001b[1;33m\u001b[0m\u001b[0m\n\u001b[0m",
      "\u001b[1;31mTypeError\u001b[0m: write() argument must be str, not list"
     ]
    }
   ],
   "source": [
    "f2.write(l)"
   ]
  },
  {
   "cell_type": "code",
   "execution_count": 19,
   "id": "b46c7a37",
   "metadata": {},
   "outputs": [
    {
     "data": {
      "text/plain": [
       "31"
      ]
     },
     "execution_count": 19,
     "metadata": {},
     "output_type": "execute_result"
    }
   ],
   "source": [
    "f2.write(str(l))"
   ]
  },
  {
   "cell_type": "code",
   "execution_count": 20,
   "id": "7c214135",
   "metadata": {},
   "outputs": [],
   "source": [
    "f2.close()"
   ]
  },
  {
   "cell_type": "code",
   "execution_count": 21,
   "id": "c5c750f6",
   "metadata": {},
   "outputs": [],
   "source": [
    "f3 = open(\"vijay.vij\",\"w\")\n",
    "f3.write(\"Testing with unexisted file format\")\n",
    "f3.close()"
   ]
  },
  {
   "cell_type": "code",
   "execution_count": 22,
   "id": "24bb113d",
   "metadata": {},
   "outputs": [
    {
     "name": "stdout",
     "output_type": "stream",
     "text": [
      " Volume in drive C has no label.\n",
      " Volume Serial Number is C02B-B179\n",
      "\n",
      " Directory of C:\\Users\\sunny\\Desktop\\practise sessions\\live practise\n",
      "\n",
      "03-10-2022  12:13    <DIR>          .\n",
      "03-10-2022  12:13    <DIR>          ..\n",
      "02-10-2022  17:01    <DIR>          .ipynb_checkpoints\n",
      "29-05-2022  17:56           220,911 28-05-22 while loop and basic of function.ipynb\n",
      "15-05-2022  13:26             6,719 Day 1 ( 14-05-2022 ) variable in python intro.ipynb\n",
      "03-10-2022  12:06            30,966 Day 10 (18-06-22) Iterate, Generator ,Map Reduce, Filter, Basic file operation.ipynb\n",
      "15-05-2022  18:21            28,048 Day 2 ( 15-05-22) Python string basic.ipynb\n",
      "22-05-2022  14:11            57,153 Day 3 ( 21-05-22 ) list,tuple,dic,set.ipynb\n",
      "28-05-2022  13:22            12,473 Day 4 ( 22-05-22 ) If, Elsif , Else.ipynb\n",
      "29-05-2022  11:18            16,887 Day 5 ( 28-05-22 ) For Loop.ipynb\n",
      "04-06-2022  17:44            33,645 Day 6 ( 29-05-22 )while loop and basic of function.ipynb\n",
      "04-06-2022  15:08               588 Day 7 ( 4-06-22 ) Revision class.ipynb\n",
      "26-06-2022  18:24            37,100 Day 8 ( 5-06-22 ) Function , lambda.ipynb\n",
      "02-10-2022  17:01           242,197 Day 9 (12-06-22) Exception_handling_revision_class.ipynb\n",
      "20-07-2022  18:44            52,099 Day 9_2(12-06-22).ipynb\n",
      "25-09-2022  11:48            18,540 Day Pandas Basics.ipynb\n",
      "03-10-2022  11:55                36 sudh1.txt\n",
      "03-10-2022  11:57                 0 test1.txt\n",
      "03-10-2022  12:01                31 test2.txt\n",
      "03-10-2022  12:13                34 vijay.vij\n",
      "              17 File(s)        757,427 bytes\n",
      "               3 Dir(s)  164,659,621,888 bytes free\n"
     ]
    }
   ],
   "source": [
    "ls\n"
   ]
  },
  {
   "cell_type": "code",
   "execution_count": null,
   "id": "165ad99c",
   "metadata": {},
   "outputs": [],
   "source": []
  },
  {
   "cell_type": "code",
   "execution_count": 55,
   "id": "d6ab6c4e",
   "metadata": {},
   "outputs": [
    {
     "name": "stdout",
     "output_type": "stream",
     "text": [
      "Overwriting another.txt\n"
     ]
    }
   ],
   "source": [
    "%%writefile another.txt\n",
    "this is my python program to write into a file in different way\n",
    "this is my python program to write into a file in different way\n",
    "this is my python program to write into a file in different way\n",
    "this is my python program to write into a file in different way\n",
    "this is my python program to write into a file in different way\n",
    "this is my python program to write into a file in different way"
   ]
  },
  {
   "cell_type": "code",
   "execution_count": 56,
   "id": "b99a98f8",
   "metadata": {},
   "outputs": [
    {
     "data": {
      "text/plain": [
       "'this is my python program to write into a file in different way\\nthis is my python program to write into a file in different way\\nthis is my python program to write into a file in different way\\nthis is my python program to write into a file in different way\\nthis is my python program to write into a file in different way\\nthis is my python program to write into a file in different way\\n'"
      ]
     },
     "execution_count": 56,
     "metadata": {},
     "output_type": "execute_result"
    }
   ],
   "source": [
    "f = open('another.txt')\n",
    "f.read()"
   ]
  },
  {
   "cell_type": "code",
   "execution_count": 57,
   "id": "831e9e72",
   "metadata": {},
   "outputs": [
    {
     "data": {
      "text/plain": [
       "''"
      ]
     },
     "execution_count": 57,
     "metadata": {},
     "output_type": "execute_result"
    }
   ],
   "source": [
    "f.read() # pointer once reas all data and it is at last position"
   ]
  },
  {
   "cell_type": "code",
   "execution_count": 58,
   "id": "07ad5288",
   "metadata": {},
   "outputs": [
    {
     "data": {
      "text/plain": [
       "0"
      ]
     },
     "execution_count": 58,
     "metadata": {},
     "output_type": "execute_result"
    }
   ],
   "source": [
    "f.seek(0) # changing pointer to 0 index"
   ]
  },
  {
   "cell_type": "code",
   "execution_count": 59,
   "id": "7f49a6a7",
   "metadata": {},
   "outputs": [
    {
     "data": {
      "text/plain": [
       "'this is my python program to write into a file in different way\\nthis is my python program to write into a file in different way\\nthis is my python program to write into a file in different way\\nthis is my python program to write into a file in different way\\nthis is my python program to write into a file in different way\\nthis is my python program to write into a file in different way\\n'"
      ]
     },
     "execution_count": 59,
     "metadata": {},
     "output_type": "execute_result"
    }
   ],
   "source": [
    "f.read()"
   ]
  },
  {
   "cell_type": "code",
   "execution_count": 60,
   "id": "f5a7b5a3",
   "metadata": {},
   "outputs": [
    {
     "data": {
      "text/plain": [
       "5"
      ]
     },
     "execution_count": 60,
     "metadata": {},
     "output_type": "execute_result"
    }
   ],
   "source": [
    "f.seek(5) # changing pointer to 5 index"
   ]
  },
  {
   "cell_type": "code",
   "execution_count": 61,
   "id": "2187ec6b",
   "metadata": {},
   "outputs": [
    {
     "data": {
      "text/plain": [
       "'is my python program to write into a file in different way\\nthis is my python program to write into a file in different way\\nthis is my python program to write into a file in different way\\nthis is my python program to write into a file in different way\\nthis is my python program to write into a file in different way\\nthis is my python program to write into a file in different way\\n'"
      ]
     },
     "execution_count": 61,
     "metadata": {},
     "output_type": "execute_result"
    }
   ],
   "source": [
    "f.read()"
   ]
  },
  {
   "cell_type": "code",
   "execution_count": 62,
   "id": "6af9b98d",
   "metadata": {},
   "outputs": [
    {
     "data": {
      "text/plain": [
       "390"
      ]
     },
     "execution_count": 62,
     "metadata": {},
     "output_type": "execute_result"
    }
   ],
   "source": [
    "f.tell()  # tell says where the pointer exist"
   ]
  },
  {
   "cell_type": "code",
   "execution_count": 63,
   "id": "7b10957a",
   "metadata": {},
   "outputs": [
    {
     "data": {
      "text/plain": [
       "0"
      ]
     },
     "execution_count": 63,
     "metadata": {},
     "output_type": "execute_result"
    }
   ],
   "source": [
    "f.seek(0)"
   ]
  },
  {
   "cell_type": "code",
   "execution_count": 64,
   "id": "7558d216",
   "metadata": {},
   "outputs": [
    {
     "data": {
      "text/plain": [
       "'this i'"
      ]
     },
     "execution_count": 64,
     "metadata": {},
     "output_type": "execute_result"
    }
   ],
   "source": [
    "f.read(6)  # reads until the mentioned index"
   ]
  },
  {
   "cell_type": "code",
   "execution_count": 65,
   "id": "05658b4c",
   "metadata": {},
   "outputs": [
    {
     "data": {
      "text/plain": [
       "'s my python program to write into a file in different way\\n'"
      ]
     },
     "execution_count": 65,
     "metadata": {},
     "output_type": "execute_result"
    }
   ],
   "source": [
    "f.readline()"
   ]
  },
  {
   "cell_type": "code",
   "execution_count": 66,
   "id": "e498a265",
   "metadata": {},
   "outputs": [
    {
     "data": {
      "text/plain": [
       "0"
      ]
     },
     "execution_count": 66,
     "metadata": {},
     "output_type": "execute_result"
    }
   ],
   "source": [
    "f.seek(0)"
   ]
  },
  {
   "cell_type": "code",
   "execution_count": 67,
   "id": "7dd60259",
   "metadata": {},
   "outputs": [
    {
     "data": {
      "text/plain": [
       "'this is my python program to write into a file in different way\\n'"
      ]
     },
     "execution_count": 67,
     "metadata": {},
     "output_type": "execute_result"
    }
   ],
   "source": [
    "f.readline()  # returns single line"
   ]
  },
  {
   "cell_type": "code",
   "execution_count": 68,
   "id": "7e6a1d40",
   "metadata": {},
   "outputs": [
    {
     "data": {
      "text/plain": [
       "['this is my python program to write into a file in different way\\n',\n",
       " 'this is my python program to write into a file in different way\\n',\n",
       " 'this is my python program to write into a file in different way\\n',\n",
       " 'this is my python program to write into a file in different way\\n',\n",
       " 'this is my python program to write into a file in different way\\n']"
      ]
     },
     "execution_count": 68,
     "metadata": {},
     "output_type": "execute_result"
    }
   ],
   "source": [
    "f.readlines() # returns all the existing lines"
   ]
  },
  {
   "cell_type": "code",
   "execution_count": 69,
   "id": "3aef466c",
   "metadata": {},
   "outputs": [
    {
     "data": {
      "text/plain": [
       "<_io.TextIOWrapper name='another.txt' mode='r' encoding='cp1252'>"
      ]
     },
     "execution_count": 69,
     "metadata": {},
     "output_type": "execute_result"
    }
   ],
   "source": [
    "f"
   ]
  },
  {
   "cell_type": "code",
   "execution_count": 70,
   "id": "a770cffb",
   "metadata": {},
   "outputs": [
    {
     "data": {
      "text/plain": [
       "5"
      ]
     },
     "execution_count": 70,
     "metadata": {},
     "output_type": "execute_result"
    }
   ],
   "source": [
    "f.fileno()"
   ]
  },
  {
   "cell_type": "code",
   "execution_count": 79,
   "id": "10b01c05",
   "metadata": {},
   "outputs": [],
   "source": [
    "f = open(\"test2.txt\",\"w\")\n"
   ]
  },
  {
   "cell_type": "code",
   "execution_count": 77,
   "id": "19df4eeb",
   "metadata": {},
   "outputs": [
    {
     "data": {
      "text/plain": [
       "63"
      ]
     },
     "execution_count": 77,
     "metadata": {},
     "output_type": "execute_result"
    }
   ],
   "source": [
    "f.write(\"\"\"this is my python program to write into a file in different way\"\"\")"
   ]
  },
  {
   "cell_type": "code",
   "execution_count": 81,
   "id": "d69814d8",
   "metadata": {},
   "outputs": [],
   "source": [
    "f.close()"
   ]
  },
  {
   "cell_type": "code",
   "execution_count": 80,
   "id": "1e649185",
   "metadata": {},
   "outputs": [
    {
     "data": {
      "text/plain": [
       "21"
      ]
     },
     "execution_count": 80,
     "metadata": {},
     "output_type": "execute_result"
    }
   ],
   "source": [
    "f.write(\"hsdgfyuawbed sdhbbcjk\") # f overwritten\n"
   ]
  },
  {
   "cell_type": "code",
   "execution_count": 82,
   "id": "ac0512ff",
   "metadata": {},
   "outputs": [],
   "source": [
    "f = open('test2.txt','a') # a = append data"
   ]
  },
  {
   "cell_type": "code",
   "execution_count": 83,
   "id": "00ad23e0",
   "metadata": {},
   "outputs": [
    {
     "data": {
      "text/plain": [
       "23"
      ]
     },
     "execution_count": 83,
     "metadata": {},
     "output_type": "execute_result"
    }
   ],
   "source": [
    "f.write(\"buisdyg iugd  aueyg odg\")"
   ]
  },
  {
   "cell_type": "code",
   "execution_count": 84,
   "id": "6d768f3d",
   "metadata": {},
   "outputs": [],
   "source": [
    "f.close()"
   ]
  },
  {
   "cell_type": "code",
   "execution_count": 85,
   "id": "8a120a05",
   "metadata": {},
   "outputs": [
    {
     "data": {
      "text/plain": [
       "'test2.txt'"
      ]
     },
     "execution_count": 85,
     "metadata": {},
     "output_type": "execute_result"
    }
   ],
   "source": [
    "f.name"
   ]
  },
  {
   "cell_type": "code",
   "execution_count": 86,
   "id": "e63bcd9a",
   "metadata": {},
   "outputs": [
    {
     "data": {
      "text/plain": [
       "True"
      ]
     },
     "execution_count": 86,
     "metadata": {},
     "output_type": "execute_result"
    }
   ],
   "source": [
    "f.closed"
   ]
  },
  {
   "cell_type": "code",
   "execution_count": 87,
   "id": "c6ed50e2",
   "metadata": {},
   "outputs": [
    {
     "data": {
      "text/plain": [
       "'a'"
      ]
     },
     "execution_count": 87,
     "metadata": {},
     "output_type": "execute_result"
    }
   ],
   "source": [
    "f.mode"
   ]
  },
  {
   "cell_type": "code",
   "execution_count": null,
   "id": "baa929b0",
   "metadata": {},
   "outputs": [],
   "source": []
  }
 ],
 "metadata": {
  "kernelspec": {
   "display_name": "Python 3 (ipykernel)",
   "language": "python",
   "name": "python3"
  },
  "language_info": {
   "codemirror_mode": {
    "name": "ipython",
    "version": 3
   },
   "file_extension": ".py",
   "mimetype": "text/x-python",
   "name": "python",
   "nbconvert_exporter": "python",
   "pygments_lexer": "ipython3",
   "version": "3.9.7"
  }
 },
 "nbformat": 4,
 "nbformat_minor": 5
}

{
 "cells": [
  {
   "cell_type": "code",
   "execution_count": 1,
   "id": "1e53e1cc-2d0d-4dff-ab02-d5a787e9e3bb",
   "metadata": {},
   "outputs": [],
   "source": [
    "a = 10"
   ]
  },
  {
   "cell_type": "code",
   "execution_count": 2,
   "id": "88ec3043-bacb-406c-8fd0-e4b9a789b548",
   "metadata": {},
   "outputs": [
    {
     "ename": "ZeroDivisionError",
     "evalue": "division by zero",
     "output_type": "error",
     "traceback": [
      "\u001b[0;31m---------------------------------------------------------------------------\u001b[0m",
      "\u001b[0;31mZeroDivisionError\u001b[0m                         Traceback (most recent call last)",
      "Cell \u001b[0;32mIn [2], line 1\u001b[0m\n\u001b[0;32m----> 1\u001b[0m \u001b[43ma\u001b[49m\u001b[38;5;241;43m/\u001b[39;49m\u001b[38;5;241;43m0\u001b[39;49m\n",
      "\u001b[0;31mZeroDivisionError\u001b[0m: division by zero"
     ]
    }
   ],
   "source": [
    "a/0"
   ]
  },
  {
   "cell_type": "code",
   "execution_count": 5,
   "id": "c4ed8ef1-aa3f-4edf-9fdc-d87864f20940",
   "metadata": {},
   "outputs": [
    {
     "ename": "FileNotFoundError",
     "evalue": "[Errno 2] No such file or directory: 'vijay.txt'",
     "output_type": "error",
     "traceback": [
      "\u001b[0;31m---------------------------------------------------------------------------\u001b[0m",
      "\u001b[0;31mFileNotFoundError\u001b[0m                         Traceback (most recent call last)",
      "Cell \u001b[0;32mIn [5], line 1\u001b[0m\n\u001b[0;32m----> 1\u001b[0m f \u001b[38;5;241m=\u001b[39m \u001b[38;5;28;43mopen\u001b[39;49m\u001b[43m(\u001b[49m\u001b[38;5;124;43m\"\u001b[39;49m\u001b[38;5;124;43mvijay.txt\u001b[39;49m\u001b[38;5;124;43m\"\u001b[39;49m\u001b[43m,\u001b[49m\u001b[38;5;124;43m\"\u001b[39;49m\u001b[38;5;124;43mr\u001b[39;49m\u001b[38;5;124;43m\"\u001b[39;49m\u001b[43m)\u001b[49m\n\u001b[1;32m      2\u001b[0m \u001b[38;5;28mprint\u001b[39m(\u001b[38;5;124m\"\u001b[39m\u001b[38;5;124mabove error makes next line of code unexceutable\u001b[39m\u001b[38;5;124m\"\u001b[39m)\n",
      "\u001b[0;31mFileNotFoundError\u001b[0m: [Errno 2] No such file or directory: 'vijay.txt'"
     ]
    }
   ],
   "source": [
    "f = open(\"vijay.txt\",\"r\")\n",
    "print(\"above error makes next line of code unexceutable\")"
   ]
  },
  {
   "cell_type": "raw",
   "id": "a2de2e9a-9a31-4337-b270-7eaf200ea48e",
   "metadata": {},
   "source": [
    "These are 4 exception handlers in exception handling\n",
    "\n",
    "Try \n",
    "except\n",
    "finally       \n",
    "else       "
   ]
  },
  {
   "cell_type": "code",
   "execution_count": 2,
   "id": "c3d37893-ab44-4186-b21d-d9a38bf99ad3",
   "metadata": {},
   "outputs": [
    {
     "name": "stdout",
     "output_type": "stream",
     "text": [
      "1.0\n",
      "division by zero\n",
      "this will be my final code after handling the exception\n"
     ]
    }
   ],
   "source": [
    "try:\n",
    "    a = 10\n",
    "    print(a/10)\n",
    "    a/0\n",
    "except Exception as e:   \n",
    "    print(e)\n",
    "    print(\"this will be my final code after handling the exception\")"
   ]
  },
  {
   "cell_type": "code",
   "execution_count": 16,
   "id": "d730058a-7d82-4c48-8bc5-51fd4cf0985a",
   "metadata": {},
   "outputs": [
    {
     "name": "stdout",
     "output_type": "stream",
     "text": [
      "[Errno 2] No such file or directory: 'vijay.txt'\n"
     ]
    }
   ],
   "source": [
    "try:\n",
    "    f = open(\"vijay.txt\",\"r\")\n",
    "except Exception as e:\n",
    "    print(e)"
   ]
  },
  {
   "cell_type": "code",
   "execution_count": 17,
   "id": "cd4cc196-085d-4a33-b95f-e2b8354e9694",
   "metadata": {},
   "outputs": [
    {
     "ename": "FileNotFoundError",
     "evalue": "[Errno 2] No such file or directory: 'vijay.txt'",
     "output_type": "error",
     "traceback": [
      "\u001b[0;31m---------------------------------------------------------------------------\u001b[0m",
      "\u001b[0;31mFileNotFoundError\u001b[0m                         Traceback (most recent call last)",
      "Cell \u001b[0;32mIn [17], line 1\u001b[0m\n\u001b[0;32m----> 1\u001b[0m f \u001b[38;5;241m=\u001b[39m \u001b[38;5;28;43mopen\u001b[39;49m\u001b[43m(\u001b[49m\u001b[38;5;124;43m\"\u001b[39;49m\u001b[38;5;124;43mvijay.txt\u001b[39;49m\u001b[38;5;124;43m\"\u001b[39;49m\u001b[43m,\u001b[49m\u001b[38;5;124;43m\"\u001b[39;49m\u001b[38;5;124;43mr\u001b[39;49m\u001b[38;5;124;43m\"\u001b[39;49m\u001b[43m)\u001b[49m\n\u001b[1;32m      2\u001b[0m f\u001b[38;5;241m.\u001b[39mwrite(\u001b[38;5;124m\"\u001b[39m\u001b[38;5;124mthis i smy suspicuous code\u001b[39m\u001b[38;5;124m\"\u001b[39m)\n",
      "\u001b[0;31mFileNotFoundError\u001b[0m: [Errno 2] No such file or directory: 'vijay.txt'"
     ]
    }
   ],
   "source": [
    "f = open(\"vijay.txt\",\"r\")\n",
    "f.write(\"this i smy suspicuous code\")"
   ]
  },
  {
   "cell_type": "code",
   "execution_count": 3,
   "id": "637731ad-caa5-416d-8972-1b89beea9ee3",
   "metadata": {},
   "outputs": [
    {
     "name": "stdout",
     "output_type": "stream",
     "text": [
      "[Errno 2] No such file or directory: 'vijay.txt'\n",
      "this is not my suspisious code\n"
     ]
    }
   ],
   "source": [
    "try:\n",
    "    f = open(\"vijay.txt\",\"r\")\n",
    "    f.write(\"this is my suspicuous code\")\n",
    "except Exception as r:\n",
    "    print(r)\n",
    "    print(\"this is not my suspisious code\")"
   ]
  },
  {
   "cell_type": "code",
   "execution_count": 4,
   "id": "d97a80ef-8081-4914-b963-a9f6034ed896",
   "metadata": {},
   "outputs": [
    {
     "name": "stdout",
     "output_type": "stream",
     "text": [
      "[Errno 2] No such file or directory: 'vijay.txt'\n",
      "this is not my suspisious code\n",
      "this block will be executed anytime\n"
     ]
    }
   ],
   "source": [
    "try:\n",
    "    f = open(\"vijay.txt\",\"r\")\n",
    "    f.write(\"this i smy suspicuous code\")\n",
    "except Exception as r:\n",
    "    print(r)\n",
    "    print(\"this is not my suspisious code\")\n",
    "finally:\n",
    "    print(\"this block will be executed anytime\")"
   ]
  },
  {
   "cell_type": "code",
   "execution_count": 5,
   "id": "7cf0d3e9-7a9c-4054-8314-04b3b2316148",
   "metadata": {},
   "outputs": [],
   "source": [
    " def askint():\n",
    "        try:\n",
    "            val = int(input(\"please enter an integer: \"))\n",
    "        except :\n",
    "            print(\"no you have not entered an integer\")\n",
    "            try:\n",
    "                val = int(input(\"please enter an integer: \"))\n",
    "            except:\n",
    "                print(\"we are able to handle your mistake second time\")\n",
    "        finally:\n",
    "            print(\"finally will be executed anyhow\")"
   ]
  },
  {
   "cell_type": "code",
   "execution_count": 6,
   "id": "ab87af9a-e9f9-4704-a1b0-4732536e4485",
   "metadata": {},
   "outputs": [
    {
     "name": "stdin",
     "output_type": "stream",
     "text": [
      "please enter an integer:  asdf\n"
     ]
    },
    {
     "name": "stdout",
     "output_type": "stream",
     "text": [
      "no you have not entered an integer\n"
     ]
    },
    {
     "name": "stdin",
     "output_type": "stream",
     "text": [
      "please enter an integer:  adsf\n"
     ]
    },
    {
     "name": "stdout",
     "output_type": "stream",
     "text": [
      "we are able to handle your mistake second time\n",
      "finally will be executed anyhow\n"
     ]
    }
   ],
   "source": [
    "askint()"
   ]
  },
  {
   "cell_type": "code",
   "execution_count": 7,
   "id": "1254d65a-3d2b-45ca-8be6-682d992b77c0",
   "metadata": {},
   "outputs": [],
   "source": [
    "def askint1():\n",
    "    while True: \n",
    "        try:\n",
    "            val = int(input(\"please try to input an integer: \"))\n",
    "            break\n",
    "        except:\n",
    "            print(\"looks like you have not entered an integer \")\n",
    "            continue\n"
   ]
  },
  {
   "cell_type": "code",
   "execution_count": 8,
   "id": "399ca2a3-f2b3-4ff5-b5a3-33806d62bad2",
   "metadata": {},
   "outputs": [
    {
     "name": "stdin",
     "output_type": "stream",
     "text": [
      "please try to input an integer:  dsfv\n"
     ]
    },
    {
     "name": "stdout",
     "output_type": "stream",
     "text": [
      "looks like you have not entered an integer \n"
     ]
    },
    {
     "name": "stdin",
     "output_type": "stream",
     "text": [
      "please try to input an integer:  dva\n"
     ]
    },
    {
     "name": "stdout",
     "output_type": "stream",
     "text": [
      "looks like you have not entered an integer \n"
     ]
    },
    {
     "name": "stdin",
     "output_type": "stream",
     "text": [
      "please try to input an integer:  sdv\n"
     ]
    },
    {
     "name": "stdout",
     "output_type": "stream",
     "text": [
      "looks like you have not entered an integer \n"
     ]
    },
    {
     "name": "stdin",
     "output_type": "stream",
     "text": [
      "please try to input an integer:  21\n"
     ]
    }
   ],
   "source": [
    "askint1()"
   ]
  },
  {
   "cell_type": "code",
   "execution_count": 9,
   "id": "f2c6f59e-4688-4eac-89d5-13da612cabea",
   "metadata": {},
   "outputs": [
    {
     "name": "stdin",
     "output_type": "stream",
     "text": [
      "please try to input an integer:  fgv\n"
     ]
    },
    {
     "name": "stdout",
     "output_type": "stream",
     "text": [
      "looks like you have not entered an integer \n"
     ]
    },
    {
     "name": "stdin",
     "output_type": "stream",
     "text": [
      "please try to input an integer:  erg\n"
     ]
    },
    {
     "name": "stdout",
     "output_type": "stream",
     "text": [
      "looks like you have not entered an integer \n"
     ]
    },
    {
     "name": "stdin",
     "output_type": "stream",
     "text": [
      "please try to input an integer:  wer\n"
     ]
    },
    {
     "name": "stdout",
     "output_type": "stream",
     "text": [
      "looks like you have not entered an integer \n"
     ]
    },
    {
     "name": "stdin",
     "output_type": "stream",
     "text": [
      "please try to input an integer:  123\n"
     ]
    }
   ],
   "source": [
    " while True: \n",
    "        try:\n",
    "            val = int(input(\"please try to input an integer: \"))\n",
    "            break\n",
    "        except:\n",
    "            print(\"looks like you have not entered an integer \")\n",
    "            continue"
   ]
  },
  {
   "cell_type": "code",
   "execution_count": 10,
   "id": "dc75039b-01f1-4533-812b-70e4a6bb5c6a",
   "metadata": {},
   "outputs": [
    {
     "name": "stdin",
     "output_type": "stream",
     "text": [
      "please try to input an integer:  gfh\n"
     ]
    },
    {
     "name": "stdout",
     "output_type": "stream",
     "text": [
      "looks like you have not entered an integer \n"
     ]
    },
    {
     "name": "stdin",
     "output_type": "stream",
     "text": [
      "please try to input an integer:  dfjgn\n"
     ]
    },
    {
     "name": "stdout",
     "output_type": "stream",
     "text": [
      "looks like you have not entered an integer \n"
     ]
    },
    {
     "name": "stdin",
     "output_type": "stream",
     "text": [
      "please try to input an integer:  idufb\n"
     ]
    },
    {
     "name": "stdout",
     "output_type": "stream",
     "text": [
      "looks like you have not entered an integer \n"
     ]
    },
    {
     "name": "stdin",
     "output_type": "stream",
     "text": [
      "please try to input an integer:  234\n"
     ]
    }
   ],
   "source": [
    " while True: \n",
    "        try:\n",
    "            val = int(input(\"please try to input an integer: \"))\n",
    "            break\n",
    "        except:\n",
    "            print(\"looks like you have not entered an integer \")\n",
    "            "
   ]
  },
  {
   "cell_type": "code",
   "execution_count": null,
   "id": "ed2a54d8-6d28-4b26-9475-110b86c26e97",
   "metadata": {},
   "outputs": [],
   "source": []
  }
 ],
 "metadata": {
  "kernelspec": {
   "display_name": "Python 3 (ipykernel)",
   "language": "python",
   "name": "python3"
  },
  "language_info": {
   "codemirror_mode": {
    "name": "ipython",
    "version": 3
   },
   "file_extension": ".py",
   "mimetype": "text/x-python",
   "name": "python",
   "nbconvert_exporter": "python",
   "pygments_lexer": "ipython3",
   "version": "3.10.6"
  }
 },
 "nbformat": 4,
 "nbformat_minor": 5
}

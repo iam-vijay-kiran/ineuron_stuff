{
 "cells": [
  {
   "cell_type": "code",
   "execution_count": 1,
   "id": "2a64c499",
   "metadata": {},
   "outputs": [],
   "source": [
    "# string indexing\n",
    "s = \"vijay kiran\""
   ]
  },
  {
   "cell_type": "code",
   "execution_count": 3,
   "id": "b9b14ff6",
   "metadata": {},
   "outputs": [
    {
     "data": {
      "text/plain": [
       "'v'"
      ]
     },
     "execution_count": 3,
     "metadata": {},
     "output_type": "execute_result"
    }
   ],
   "source": [
    "s[0]"
   ]
  },
  {
   "cell_type": "code",
   "execution_count": 2,
   "id": "e75a10d9",
   "metadata": {},
   "outputs": [
    {
     "data": {
      "text/plain": [
       "'n'"
      ]
     },
     "execution_count": 2,
     "metadata": {},
     "output_type": "execute_result"
    }
   ],
   "source": [
    "s[-1]"
   ]
  },
  {
   "cell_type": "code",
   "execution_count": 8,
   "id": "d4e7316a",
   "metadata": {},
   "outputs": [],
   "source": [
    "s1 = \"this is my first programming class's\""
   ]
  },
  {
   "cell_type": "code",
   "execution_count": 5,
   "id": "dc36ebee",
   "metadata": {},
   "outputs": [
    {
     "data": {
      "text/plain": [
       "'his '"
      ]
     },
     "execution_count": 5,
     "metadata": {},
     "output_type": "execute_result"
    }
   ],
   "source": [
    "s1[1:5]\n",
    "\n",
    "# 1-lower bound & 5 - upper bound. upper bound is excluded"
   ]
  },
  {
   "cell_type": "code",
   "execution_count": 6,
   "id": "7d247995",
   "metadata": {},
   "outputs": [
    {
     "data": {
      "text/plain": [
       "'s my first programming c'"
      ]
     },
     "execution_count": 6,
     "metadata": {},
     "output_type": "execute_result"
    }
   ],
   "source": [
    "s1[6:30]"
   ]
  },
  {
   "cell_type": "code",
   "execution_count": 9,
   "id": "e639251a",
   "metadata": {},
   "outputs": [
    {
     "data": {
      "text/plain": [
       "'sm is rgamn '"
      ]
     },
     "execution_count": 9,
     "metadata": {},
     "output_type": "execute_result"
    }
   ],
   "source": [
    "s1[6:30:2] # start from 6 to 30 with jump of 2"
   ]
  },
  {
   "cell_type": "code",
   "execution_count": 12,
   "id": "36515f2a",
   "metadata": {},
   "outputs": [],
   "source": [
    "v = \"vijay_kiran\""
   ]
  },
  {
   "cell_type": "code",
   "execution_count": 15,
   "id": "db56d1fd",
   "metadata": {},
   "outputs": [
    {
     "data": {
      "text/plain": [
       "'vijay_kiran'"
      ]
     },
     "execution_count": 15,
     "metadata": {},
     "output_type": "execute_result"
    }
   ],
   "source": [
    "v[0:11:1]"
   ]
  },
  {
   "cell_type": "code",
   "execution_count": 16,
   "id": "6a2060c3",
   "metadata": {},
   "outputs": [
    {
     "data": {
      "text/plain": [
       "'rik_yaji'"
      ]
     },
     "execution_count": 16,
     "metadata": {},
     "output_type": "execute_result"
    }
   ],
   "source": [
    "v[8:0:-1]"
   ]
  },
  {
   "cell_type": "code",
   "execution_count": 17,
   "id": "ece8408d",
   "metadata": {},
   "outputs": [
    {
     "data": {
      "text/plain": [
       "'vijay_ki'"
      ]
     },
     "execution_count": 17,
     "metadata": {},
     "output_type": "execute_result"
    }
   ],
   "source": [
    "v[:-3]"
   ]
  },
  {
   "cell_type": "code",
   "execution_count": 18,
   "id": "a79e2ae5",
   "metadata": {},
   "outputs": [
    {
     "data": {
      "text/plain": [
       "'an'"
      ]
     },
     "execution_count": 18,
     "metadata": {},
     "output_type": "execute_result"
    }
   ],
   "source": [
    "v[-2:]"
   ]
  },
  {
   "cell_type": "code",
   "execution_count": 19,
   "id": "0811641d",
   "metadata": {},
   "outputs": [
    {
     "data": {
      "text/plain": [
       "'vijay_kiran'"
      ]
     },
     "execution_count": 19,
     "metadata": {},
     "output_type": "execute_result"
    }
   ],
   "source": [
    "v[::1]"
   ]
  },
  {
   "cell_type": "code",
   "execution_count": 20,
   "id": "78539e92",
   "metadata": {},
   "outputs": [
    {
     "data": {
      "text/plain": [
       "'ijay_kiran'"
      ]
     },
     "execution_count": 20,
     "metadata": {},
     "output_type": "execute_result"
    }
   ],
   "source": [
    "v[1:]"
   ]
  },
  {
   "cell_type": "code",
   "execution_count": 21,
   "id": "0cbf39b1",
   "metadata": {},
   "outputs": [
    {
     "data": {
      "text/plain": [
       "'narik_yajiv'"
      ]
     },
     "execution_count": 21,
     "metadata": {},
     "output_type": "execute_result"
    }
   ],
   "source": [
    "v[::-1]"
   ]
  },
  {
   "cell_type": "code",
   "execution_count": 22,
   "id": "3dcd2b67",
   "metadata": {},
   "outputs": [],
   "source": [
    "s3 = 'ineuron'"
   ]
  },
  {
   "cell_type": "code",
   "execution_count": 23,
   "id": "fa77a22e",
   "metadata": {},
   "outputs": [
    {
     "data": {
      "text/plain": [
       "'norueni'"
      ]
     },
     "execution_count": 23,
     "metadata": {},
     "output_type": "execute_result"
    }
   ],
   "source": [
    "s3[::-1]"
   ]
  },
  {
   "cell_type": "code",
   "execution_count": 24,
   "id": "b6a9d74c",
   "metadata": {},
   "outputs": [
    {
     "data": {
      "text/plain": [
       "''"
      ]
     },
     "execution_count": 24,
     "metadata": {},
     "output_type": "execute_result"
    }
   ],
   "source": [
    "s3[-2:-7:1]"
   ]
  },
  {
   "cell_type": "code",
   "execution_count": 25,
   "id": "d386c749",
   "metadata": {},
   "outputs": [
    {
     "data": {
      "text/plain": [
       "'ineur'"
      ]
     },
     "execution_count": 25,
     "metadata": {},
     "output_type": "execute_result"
    }
   ],
   "source": [
    "s3[-7:-2:1]"
   ]
  },
  {
   "cell_type": "code",
   "execution_count": 26,
   "id": "8e6d3d24",
   "metadata": {},
   "outputs": [
    {
     "data": {
      "text/plain": [
       "''"
      ]
     },
     "execution_count": 26,
     "metadata": {},
     "output_type": "execute_result"
    }
   ],
   "source": [
    "s[:-1:-1]"
   ]
  },
  {
   "cell_type": "code",
   "execution_count": 27,
   "id": "93066c43",
   "metadata": {},
   "outputs": [
    {
     "data": {
      "text/plain": [
       "'vijay kiran'"
      ]
     },
     "execution_count": 27,
     "metadata": {},
     "output_type": "execute_result"
    }
   ],
   "source": [
    "s"
   ]
  },
  {
   "cell_type": "code",
   "execution_count": 28,
   "id": "b9bf9f63",
   "metadata": {},
   "outputs": [
    {
     "ename": "TypeError",
     "evalue": "can only concatenate str (not \"int\") to str",
     "output_type": "error",
     "traceback": [
      "\u001b[1;31m---------------------------------------------------------------------------\u001b[0m",
      "\u001b[1;31mTypeError\u001b[0m                                 Traceback (most recent call last)",
      "\u001b[1;32m~\\AppData\\Local\\Temp/ipykernel_12256/188300016.py\u001b[0m in \u001b[0;36m<module>\u001b[1;34m\u001b[0m\n\u001b[0;32m      1\u001b[0m \u001b[1;31m## TASK\u001b[0m\u001b[1;33m\u001b[0m\u001b[1;33m\u001b[0m\u001b[0m\n\u001b[0;32m      2\u001b[0m \u001b[1;33m\u001b[0m\u001b[0m\n\u001b[1;32m----> 3\u001b[1;33m \u001b[0ms\u001b[0m\u001b[1;33m+\u001b[0m\u001b[1;36m1\u001b[0m\u001b[1;33m\u001b[0m\u001b[1;33m\u001b[0m\u001b[0m\n\u001b[0m",
      "\u001b[1;31mTypeError\u001b[0m: can only concatenate str (not \"int\") to str"
     ]
    }
   ],
   "source": [
    "\n",
    "s+1"
   ]
  },
  {
   "cell_type": "code",
   "execution_count": 29,
   "id": "a9c1d67c",
   "metadata": {},
   "outputs": [
    {
     "data": {
      "text/plain": [
       "'vijay kiran1'"
      ]
     },
     "execution_count": 29,
     "metadata": {},
     "output_type": "execute_result"
    }
   ],
   "source": [
    "s+'1'"
   ]
  },
  {
   "cell_type": "code",
   "execution_count": 30,
   "id": "1985918c",
   "metadata": {},
   "outputs": [
    {
     "data": {
      "text/plain": [
       "'vijay kiran1'"
      ]
     },
     "execution_count": 30,
     "metadata": {},
     "output_type": "execute_result"
    }
   ],
   "source": [
    "s + str(1)"
   ]
  },
  {
   "cell_type": "code",
   "execution_count": 31,
   "id": "e47bbdb7",
   "metadata": {},
   "outputs": [
    {
     "data": {
      "text/plain": [
       "11"
      ]
     },
     "execution_count": 31,
     "metadata": {},
     "output_type": "execute_result"
    }
   ],
   "source": [
    "len(s)"
   ]
  },
  {
   "cell_type": "code",
   "execution_count": 32,
   "id": "00faa681",
   "metadata": {},
   "outputs": [
    {
     "data": {
      "text/plain": [
       "'vijay127387862873649'"
      ]
     },
     "execution_count": 32,
     "metadata": {},
     "output_type": "execute_result"
    }
   ],
   "source": [
    "\"vijay\" + \"127387862873649\""
   ]
  },
  {
   "cell_type": "code",
   "execution_count": 33,
   "id": "8519660a",
   "metadata": {},
   "outputs": [
    {
     "data": {
      "text/plain": [
       "'vijay kiranvijay kiran'"
      ]
     },
     "execution_count": 33,
     "metadata": {},
     "output_type": "execute_result"
    }
   ],
   "source": [
    "s * 2\n"
   ]
  },
  {
   "cell_type": "code",
   "execution_count": 38,
   "id": "09fc5780",
   "metadata": {},
   "outputs": [
    {
     "data": {
      "text/plain": [
       "1"
      ]
     },
     "execution_count": 38,
     "metadata": {},
     "output_type": "execute_result"
    }
   ],
   "source": [
    "s.count('vi')"
   ]
  },
  {
   "cell_type": "code",
   "execution_count": 40,
   "id": "ef6fe0eb",
   "metadata": {},
   "outputs": [
    {
     "data": {
      "text/plain": [
       "['v', 'jay k', 'ran']"
      ]
     },
     "execution_count": 40,
     "metadata": {},
     "output_type": "execute_result"
    }
   ],
   "source": [
    "s.split('i')"
   ]
  },
  {
   "cell_type": "code",
   "execution_count": 41,
   "id": "f1eee2fd",
   "metadata": {},
   "outputs": [
    {
     "data": {
      "text/plain": [
       "['vijay', 'kiran']"
      ]
     },
     "execution_count": 41,
     "metadata": {},
     "output_type": "execute_result"
    }
   ],
   "source": [
    "s.split(' ')"
   ]
  },
  {
   "cell_type": "code",
   "execution_count": 42,
   "id": "4bc467bc",
   "metadata": {},
   "outputs": [],
   "source": [
    "sw ='''The Samsung Group[3] (or simply Samsung, stylized as SΛMSUNG) (Korean: 삼성 [samsʌŋ]) is a South Korean multinational manufacturing conglomerate headquartered in Samsung Town, Seoul, South Korea.[1] It comprises numerous affiliated businesses,[1] most of them united under the Samsung brand, and is the largest South Korean chaebol (business conglomerate). As of 2020, Samsung has the 8th highest global brand value.[4]'''"
   ]
  },
  {
   "cell_type": "code",
   "execution_count": 43,
   "id": "927528a6",
   "metadata": {},
   "outputs": [
    {
     "data": {
      "text/plain": [
       "'The Samsung Group[3] (or simply Samsung, stylized as SΛMSUNG) (Korean: 삼성 [samsʌŋ]) is a South Korean multinational manufacturing conglomerate headquartered in Samsung Town, Seoul, South Korea.[1] It comprises numerous affiliated businesses,[1] most of them united under the Samsung brand, and is the largest South Korean chaebol (business conglomerate). As of 2020, Samsung has the 8th highest global brand value.[4]'"
      ]
     },
     "execution_count": 43,
     "metadata": {},
     "output_type": "execute_result"
    }
   ],
   "source": [
    "sw"
   ]
  },
  {
   "cell_type": "code",
   "execution_count": 44,
   "id": "bfd1de2a",
   "metadata": {},
   "outputs": [
    {
     "data": {
      "text/plain": [
       "['The',\n",
       " 'Samsung',\n",
       " 'Group[3]',\n",
       " '(or',\n",
       " 'simply',\n",
       " 'Samsung,',\n",
       " 'stylized',\n",
       " 'as',\n",
       " 'SΛMSUNG)',\n",
       " '(Korean:',\n",
       " '삼성',\n",
       " '[samsʌŋ])',\n",
       " 'is',\n",
       " 'a',\n",
       " 'South',\n",
       " 'Korean',\n",
       " 'multinational',\n",
       " 'manufacturing',\n",
       " 'conglomerate',\n",
       " 'headquartered',\n",
       " 'in',\n",
       " 'Samsung',\n",
       " 'Town,',\n",
       " 'Seoul,',\n",
       " 'South',\n",
       " 'Korea.[1]',\n",
       " 'It',\n",
       " 'comprises',\n",
       " 'numerous',\n",
       " 'affiliated',\n",
       " 'businesses,[1]',\n",
       " 'most',\n",
       " 'of',\n",
       " 'them',\n",
       " 'united',\n",
       " 'under',\n",
       " 'the',\n",
       " 'Samsung',\n",
       " 'brand,',\n",
       " 'and',\n",
       " 'is',\n",
       " 'the',\n",
       " 'largest',\n",
       " 'South',\n",
       " 'Korean',\n",
       " 'chaebol',\n",
       " '(business',\n",
       " 'conglomerate).',\n",
       " 'As',\n",
       " 'of',\n",
       " '2020,',\n",
       " 'Samsung',\n",
       " 'has',\n",
       " 'the',\n",
       " '8th',\n",
       " 'highest',\n",
       " 'global',\n",
       " 'brand',\n",
       " 'value.[4]']"
      ]
     },
     "execution_count": 44,
     "metadata": {},
     "output_type": "execute_result"
    }
   ],
   "source": [
    "sw.split(' ')"
   ]
  },
  {
   "cell_type": "code",
   "execution_count": 45,
   "id": "39193691",
   "metadata": {},
   "outputs": [
    {
     "data": {
      "text/plain": [
       "'THE SAMSUNG GROUP[3] (OR SIMPLY SAMSUNG, STYLIZED AS SΛMSUNG) (KOREAN: 삼성 [SAMSɅŊ]) IS A SOUTH KOREAN MULTINATIONAL MANUFACTURING CONGLOMERATE HEADQUARTERED IN SAMSUNG TOWN, SEOUL, SOUTH KOREA.[1] IT COMPRISES NUMEROUS AFFILIATED BUSINESSES,[1] MOST OF THEM UNITED UNDER THE SAMSUNG BRAND, AND IS THE LARGEST SOUTH KOREAN CHAEBOL (BUSINESS CONGLOMERATE). AS OF 2020, SAMSUNG HAS THE 8TH HIGHEST GLOBAL BRAND VALUE.[4]'"
      ]
     },
     "execution_count": 45,
     "metadata": {},
     "output_type": "execute_result"
    }
   ],
   "source": [
    "sw.upper()"
   ]
  },
  {
   "cell_type": "code",
   "execution_count": 46,
   "id": "8a72f283",
   "metadata": {},
   "outputs": [
    {
     "data": {
      "text/plain": [
       "'the samsung group[3] (or simply samsung, stylized as sλmsung) (korean: 삼성 [samsʌŋ]) is a south korean multinational manufacturing conglomerate headquartered in samsung town, seoul, south korea.[1] it comprises numerous affiliated businesses,[1] most of them united under the samsung brand, and is the largest south korean chaebol (business conglomerate). as of 2020, samsung has the 8th highest global brand value.[4]'"
      ]
     },
     "execution_count": 46,
     "metadata": {},
     "output_type": "execute_result"
    }
   ],
   "source": [
    "sw.lower()"
   ]
  },
  {
   "cell_type": "code",
   "execution_count": 47,
   "id": "820b03e5",
   "metadata": {},
   "outputs": [
    {
     "data": {
      "text/plain": [
       "'vijay kiran'"
      ]
     },
     "execution_count": 47,
     "metadata": {},
     "output_type": "execute_result"
    }
   ],
   "source": [
    "s"
   ]
  },
  {
   "cell_type": "code",
   "execution_count": 48,
   "id": "ff9526cb",
   "metadata": {},
   "outputs": [
    {
     "data": {
      "text/plain": [
       "'Vijay Kiran'"
      ]
     },
     "execution_count": 48,
     "metadata": {},
     "output_type": "execute_result"
    }
   ],
   "source": [
    "s.title()"
   ]
  },
  {
   "cell_type": "code",
   "execution_count": 49,
   "id": "353d58c8",
   "metadata": {},
   "outputs": [
    {
     "data": {
      "text/plain": [
       "'Vijay kiran'"
      ]
     },
     "execution_count": 49,
     "metadata": {},
     "output_type": "execute_result"
    }
   ],
   "source": [
    "s.capitalize()"
   ]
  },
  {
   "cell_type": "code",
   "execution_count": 52,
   "id": "fddf6186",
   "metadata": {},
   "outputs": [],
   "source": [
    "v =\" VIjay kiRAN\""
   ]
  },
  {
   "cell_type": "code",
   "execution_count": 53,
   "id": "95a3ff8d",
   "metadata": {},
   "outputs": [
    {
     "data": {
      "text/plain": [
       "' viJAY KIran'"
      ]
     },
     "execution_count": 53,
     "metadata": {},
     "output_type": "execute_result"
    }
   ],
   "source": [
    "v.swapcase()"
   ]
  },
  {
   "cell_type": "code",
   "execution_count": 54,
   "id": "e3f40ee8",
   "metadata": {},
   "outputs": [
    {
     "data": {
      "text/plain": [
       "'narik yajiv'"
      ]
     },
     "execution_count": 54,
     "metadata": {},
     "output_type": "execute_result"
    }
   ],
   "source": [
    "''.join(reversed(s))"
   ]
  },
  {
   "cell_type": "code",
   "execution_count": 55,
   "id": "56acc8d2",
   "metadata": {},
   "outputs": [
    {
     "data": {
      "text/plain": [
       "'narik yajiv'"
      ]
     },
     "execution_count": 55,
     "metadata": {},
     "output_type": "execute_result"
    }
   ],
   "source": [
    "s[::-1]"
   ]
  },
  {
   "cell_type": "code",
   "execution_count": 56,
   "id": "99b23264",
   "metadata": {},
   "outputs": [],
   "source": [
    "s = \"    vi     jay     \""
   ]
  },
  {
   "cell_type": "code",
   "execution_count": 57,
   "id": "6cde2c96",
   "metadata": {},
   "outputs": [
    {
     "data": {
      "text/plain": [
       "'vi     jay'"
      ]
     },
     "execution_count": 57,
     "metadata": {},
     "output_type": "execute_result"
    }
   ],
   "source": [
    "s.strip()"
   ]
  },
  {
   "cell_type": "code",
   "execution_count": 58,
   "id": "9f70cc20",
   "metadata": {},
   "outputs": [
    {
     "data": {
      "text/plain": [
       "'    vi     jay     '"
      ]
     },
     "execution_count": 58,
     "metadata": {},
     "output_type": "execute_result"
    }
   ],
   "source": [
    "s"
   ]
  },
  {
   "cell_type": "code",
   "execution_count": 59,
   "id": "d3a51402",
   "metadata": {},
   "outputs": [
    {
     "data": {
      "text/plain": [
       "'vi     jay     '"
      ]
     },
     "execution_count": 59,
     "metadata": {},
     "output_type": "execute_result"
    }
   ],
   "source": [
    "s.lstrip()"
   ]
  },
  {
   "cell_type": "code",
   "execution_count": 60,
   "id": "c2973536",
   "metadata": {},
   "outputs": [
    {
     "data": {
      "text/plain": [
       "'    vi     jay'"
      ]
     },
     "execution_count": 60,
     "metadata": {},
     "output_type": "execute_result"
    }
   ],
   "source": [
    "s.rstrip()"
   ]
  },
  {
   "cell_type": "code",
   "execution_count": 62,
   "id": "f5f7a57f",
   "metadata": {},
   "outputs": [
    {
     "data": {
      "text/plain": [
       "'vaiajaaay'"
      ]
     },
     "execution_count": 62,
     "metadata": {},
     "output_type": "execute_result"
    }
   ],
   "source": [
    "\"a\".join(\"vijay\")"
   ]
  },
  {
   "cell_type": "code",
   "execution_count": 63,
   "id": "c4256323",
   "metadata": {},
   "outputs": [],
   "source": [
    "s = \"vijay\""
   ]
  },
  {
   "cell_type": "code",
   "execution_count": 65,
   "id": "f60d3de9",
   "metadata": {},
   "outputs": [
    {
     "data": {
      "text/plain": [
       "'-------vijay--------'"
      ]
     },
     "execution_count": 65,
     "metadata": {},
     "output_type": "execute_result"
    }
   ],
   "source": [
    "s.center(20,'-')"
   ]
  },
  {
   "cell_type": "code",
   "execution_count": 66,
   "id": "1b5293da",
   "metadata": {},
   "outputs": [
    {
     "data": {
      "text/plain": [
       "False"
      ]
     },
     "execution_count": 66,
     "metadata": {},
     "output_type": "execute_result"
    }
   ],
   "source": [
    "# is are boolean checking\n",
    "s.isupper()"
   ]
  },
  {
   "cell_type": "code",
   "execution_count": 67,
   "id": "f73bada5",
   "metadata": {},
   "outputs": [],
   "source": [
    "s1 = \"VIJAY\""
   ]
  },
  {
   "cell_type": "code",
   "execution_count": 68,
   "id": "dd267ab8",
   "metadata": {},
   "outputs": [
    {
     "data": {
      "text/plain": [
       "True"
      ]
     },
     "execution_count": 68,
     "metadata": {},
     "output_type": "execute_result"
    }
   ],
   "source": [
    "s1.isupper()"
   ]
  },
  {
   "cell_type": "code",
   "execution_count": 69,
   "id": "c50de335",
   "metadata": {},
   "outputs": [
    {
     "data": {
      "text/plain": [
       "True"
      ]
     },
     "execution_count": 69,
     "metadata": {},
     "output_type": "execute_result"
    }
   ],
   "source": [
    "s.islower()"
   ]
  },
  {
   "cell_type": "code",
   "execution_count": 70,
   "id": "ecb1251a",
   "metadata": {},
   "outputs": [
    {
     "data": {
      "text/plain": [
       "'vijay'"
      ]
     },
     "execution_count": 70,
     "metadata": {},
     "output_type": "execute_result"
    }
   ],
   "source": [
    "s"
   ]
  },
  {
   "cell_type": "code",
   "execution_count": 71,
   "id": "fe5f9852",
   "metadata": {},
   "outputs": [
    {
     "data": {
      "text/plain": [
       "False"
      ]
     },
     "execution_count": 71,
     "metadata": {},
     "output_type": "execute_result"
    }
   ],
   "source": [
    "s.isspace()"
   ]
  },
  {
   "cell_type": "code",
   "execution_count": 74,
   "id": "24d14060",
   "metadata": {},
   "outputs": [],
   "source": [
    "s2 = \"   \""
   ]
  },
  {
   "cell_type": "code",
   "execution_count": 75,
   "id": "6d3cf133",
   "metadata": {},
   "outputs": [
    {
     "data": {
      "text/plain": [
       "True"
      ]
     },
     "execution_count": 75,
     "metadata": {},
     "output_type": "execute_result"
    }
   ],
   "source": [
    "s2.isspace()"
   ]
  },
  {
   "cell_type": "code",
   "execution_count": 76,
   "id": "f5d784c0",
   "metadata": {},
   "outputs": [],
   "source": [
    "s5 = \"hsadiuhf\""
   ]
  },
  {
   "cell_type": "code",
   "execution_count": 77,
   "id": "fd14d0b7",
   "metadata": {},
   "outputs": [
    {
     "data": {
      "text/plain": [
       "False"
      ]
     },
     "execution_count": 77,
     "metadata": {},
     "output_type": "execute_result"
    }
   ],
   "source": [
    "s5.isdigit()"
   ]
  },
  {
   "cell_type": "code",
   "execution_count": 78,
   "id": "d3e15ee9",
   "metadata": {},
   "outputs": [
    {
     "data": {
      "text/plain": [
       "True"
      ]
     },
     "execution_count": 78,
     "metadata": {},
     "output_type": "execute_result"
    }
   ],
   "source": [
    "s.isalnum()"
   ]
  },
  {
   "cell_type": "code",
   "execution_count": 79,
   "id": "58c02dc1",
   "metadata": {},
   "outputs": [
    {
     "data": {
      "text/plain": [
       "'vijay'"
      ]
     },
     "execution_count": 79,
     "metadata": {},
     "output_type": "execute_result"
    }
   ],
   "source": [
    "s"
   ]
  },
  {
   "cell_type": "code",
   "execution_count": 80,
   "id": "982d8587",
   "metadata": {},
   "outputs": [
    {
     "data": {
      "text/plain": [
       "True"
      ]
     },
     "execution_count": 80,
     "metadata": {},
     "output_type": "execute_result"
    }
   ],
   "source": [
    "s.isalpha()"
   ]
  },
  {
   "cell_type": "code",
   "execution_count": 81,
   "id": "18f2d3e9",
   "metadata": {},
   "outputs": [
    {
     "data": {
      "text/plain": [
       "'vijay'"
      ]
     },
     "execution_count": 81,
     "metadata": {},
     "output_type": "execute_result"
    }
   ],
   "source": [
    "s"
   ]
  },
  {
   "cell_type": "code",
   "execution_count": 82,
   "id": "43395f52",
   "metadata": {},
   "outputs": [
    {
     "data": {
      "text/plain": [
       "False"
      ]
     },
     "execution_count": 82,
     "metadata": {},
     "output_type": "execute_result"
    }
   ],
   "source": [
    "s.startswith('i')"
   ]
  },
  {
   "cell_type": "code",
   "execution_count": 83,
   "id": "73d6a7ea",
   "metadata": {},
   "outputs": [
    {
     "data": {
      "text/plain": [
       "True"
      ]
     },
     "execution_count": 83,
     "metadata": {},
     "output_type": "execute_result"
    }
   ],
   "source": [
    "s.endswith('y')"
   ]
  },
  {
   "cell_type": "code",
   "execution_count": 84,
   "id": "fe1623a5",
   "metadata": {},
   "outputs": [],
   "source": [
    "s7 = '123ufhod'"
   ]
  },
  {
   "cell_type": "code",
   "execution_count": 85,
   "id": "6de00618",
   "metadata": {},
   "outputs": [
    {
     "data": {
      "text/plain": [
       "False"
      ]
     },
     "execution_count": 85,
     "metadata": {},
     "output_type": "execute_result"
    }
   ],
   "source": [
    "s7.isalpha()"
   ]
  },
  {
   "cell_type": "code",
   "execution_count": 86,
   "id": "ef4d3c86",
   "metadata": {},
   "outputs": [
    {
     "data": {
      "text/plain": [
       "'vijay'"
      ]
     },
     "execution_count": 86,
     "metadata": {},
     "output_type": "execute_result"
    }
   ],
   "source": [
    "s"
   ]
  },
  {
   "cell_type": "code",
   "execution_count": 87,
   "id": "98283c01",
   "metadata": {},
   "outputs": [
    {
     "data": {
      "text/plain": [
       "False"
      ]
     },
     "execution_count": 87,
     "metadata": {},
     "output_type": "execute_result"
    }
   ],
   "source": [
    "s.isnumeric()"
   ]
  },
  {
   "cell_type": "code",
   "execution_count": 88,
   "id": "effaa440",
   "metadata": {},
   "outputs": [
    {
     "data": {
      "text/plain": [
       "False"
      ]
     },
     "execution_count": 88,
     "metadata": {},
     "output_type": "execute_result"
    }
   ],
   "source": [
    "s.isdigit()"
   ]
  },
  {
   "cell_type": "code",
   "execution_count": 89,
   "id": "2208cf3f",
   "metadata": {},
   "outputs": [
    {
     "data": {
      "text/plain": [
       "True"
      ]
     },
     "execution_count": 89,
     "metadata": {},
     "output_type": "execute_result"
    }
   ],
   "source": [
    "s.isascii()"
   ]
  },
  {
   "cell_type": "code",
   "execution_count": 90,
   "id": "7eb03af4",
   "metadata": {},
   "outputs": [],
   "source": [
    "s8 = 'vijay123'"
   ]
  },
  {
   "cell_type": "code",
   "execution_count": 91,
   "id": "73405081",
   "metadata": {},
   "outputs": [
    {
     "data": {
      "text/plain": [
       "True"
      ]
     },
     "execution_count": 91,
     "metadata": {},
     "output_type": "execute_result"
    }
   ],
   "source": [
    "s8.isalnum()"
   ]
  },
  {
   "cell_type": "code",
   "execution_count": 93,
   "id": "f0dd378e",
   "metadata": {},
   "outputs": [
    {
     "data": {
      "text/plain": [
       "False"
      ]
     },
     "execution_count": 93,
     "metadata": {},
     "output_type": "execute_result"
    }
   ],
   "source": [
    "s8.isalpha()"
   ]
  },
  {
   "cell_type": "code",
   "execution_count": 94,
   "id": "e0f808c9",
   "metadata": {},
   "outputs": [
    {
     "data": {
      "text/plain": [
       "'vijay'"
      ]
     },
     "execution_count": 94,
     "metadata": {},
     "output_type": "execute_result"
    }
   ],
   "source": [
    "s"
   ]
  },
  {
   "cell_type": "code",
   "execution_count": 100,
   "id": "55ce275c",
   "metadata": {},
   "outputs": [],
   "source": [
    "s = 'vijay\\tkiran\\tvj'"
   ]
  },
  {
   "cell_type": "code",
   "execution_count": 101,
   "id": "21d07004",
   "metadata": {},
   "outputs": [
    {
     "data": {
      "text/plain": [
       "'vijay   kiran   vj'"
      ]
     },
     "execution_count": 101,
     "metadata": {},
     "output_type": "execute_result"
    }
   ],
   "source": [
    "s.expandtabs()"
   ]
  },
  {
   "cell_type": "code",
   "execution_count": 99,
   "id": "7c2f9b79",
   "metadata": {},
   "outputs": [
    {
     "data": {
      "text/plain": [
       "'yajiv'"
      ]
     },
     "execution_count": 99,
     "metadata": {},
     "output_type": "execute_result"
    }
   ],
   "source": [
    "s = \"vijay\"\n",
    "\n",
    "\"\".join(reversed(s))"
   ]
  }
 ],
 "metadata": {
  "kernelspec": {
   "display_name": "Python 3 (ipykernel)",
   "language": "python",
   "name": "python3"
  },
  "language_info": {
   "codemirror_mode": {
    "name": "ipython",
    "version": 3
   },
   "file_extension": ".py",
   "mimetype": "text/x-python",
   "name": "python",
   "nbconvert_exporter": "python",
   "pygments_lexer": "ipython3",
   "version": "3.9.7"
  }
 },
 "nbformat": 4,
 "nbformat_minor": 5
}
